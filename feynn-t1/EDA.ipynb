{
 "cells": [
  {
   "cell_type": "code",
   "execution_count": 1,
   "id": "9d4565c9",
   "metadata": {},
   "outputs": [],
   "source": [
    "import pandas as pd\n",
    "import numpy as np\n",
    "import matplotlib.pyplot as plt\n",
    "import seaborn as sns"
   ]
  },
  {
   "cell_type": "code",
   "execution_count": 2,
   "id": "6f138f9b",
   "metadata": {},
   "outputs": [
    {
     "data": {
      "text/html": [
       "<div>\n",
       "<style scoped>\n",
       "    .dataframe tbody tr th:only-of-type {\n",
       "        vertical-align: middle;\n",
       "    }\n",
       "\n",
       "    .dataframe tbody tr th {\n",
       "        vertical-align: top;\n",
       "    }\n",
       "\n",
       "    .dataframe thead th {\n",
       "        text-align: right;\n",
       "    }\n",
       "</style>\n",
       "<table border=\"1\" class=\"dataframe\">\n",
       "  <thead>\n",
       "    <tr style=\"text-align: right;\">\n",
       "      <th></th>\n",
       "      <th>State/UT</th>\n",
       "      <th>No of Retail Outlet's where EV Charging Facility available</th>\n",
       "    </tr>\n",
       "  </thead>\n",
       "  <tbody>\n",
       "    <tr>\n",
       "      <th>0</th>\n",
       "      <td>Andhra Pradesh</td>\n",
       "      <td>65</td>\n",
       "    </tr>\n",
       "    <tr>\n",
       "      <th>1</th>\n",
       "      <td>Arunachal Pradesh</td>\n",
       "      <td>4</td>\n",
       "    </tr>\n",
       "    <tr>\n",
       "      <th>2</th>\n",
       "      <td>Assam</td>\n",
       "      <td>19</td>\n",
       "    </tr>\n",
       "    <tr>\n",
       "      <th>3</th>\n",
       "      <td>Bihar</td>\n",
       "      <td>26</td>\n",
       "    </tr>\n",
       "    <tr>\n",
       "      <th>4</th>\n",
       "      <td>Chandigarh</td>\n",
       "      <td>4</td>\n",
       "    </tr>\n",
       "  </tbody>\n",
       "</table>\n",
       "</div>"
      ],
      "text/plain": [
       "            State/UT  \\\n",
       "0     Andhra Pradesh   \n",
       "1  Arunachal Pradesh   \n",
       "2              Assam   \n",
       "3              Bihar   \n",
       "4         Chandigarh   \n",
       "\n",
       "   No of Retail Outlet's where EV Charging Facility available  \n",
       "0                                                 65           \n",
       "1                                                  4           \n",
       "2                                                 19           \n",
       "3                                                 26           \n",
       "4                                                  4           "
      ]
     },
     "execution_count": 2,
     "metadata": {},
     "output_type": "execute_result"
    }
   ],
   "source": [
    "df_outlets_per_state=pd.read_csv('RS_Session_256_AU_2673_3.csv')\n",
    "df_outlets_per_state.head()"
   ]
  },
  {
   "cell_type": "code",
   "execution_count": 3,
   "id": "72934c8f",
   "metadata": {},
   "outputs": [
    {
     "data": {
      "text/plain": [
       "array(['Andhra Pradesh', 'Arunachal Pradesh', 'Assam', 'Bihar',\n",
       "       'Chandigarh', 'Chhattisgarh', 'Delhi', 'Goa', 'Gujarat', 'Haryana',\n",
       "       'Himachal Pradesh', 'Jharkhand', 'Jammu and Kashmir', 'Karnataka',\n",
       "       'Kerala', 'Leh', 'Madhya Pradesh', 'Maharastra', 'Manipur',\n",
       "       'Meghalaya', 'Nagaland', 'Odisha', 'Pondicherry', 'Punjab',\n",
       "       'Rajasthan', 'Tamil Nadu', 'Telangana', 'Tripura', 'Uttar Pradesh',\n",
       "       'Uttarakhand', 'West Bengal', 'Grand Total'], dtype=object)"
      ]
     },
     "execution_count": 3,
     "metadata": {},
     "output_type": "execute_result"
    }
   ],
   "source": [
    "df_outlets_per_state['State/UT'].unique()"
   ]
  },
  {
   "cell_type": "code",
   "execution_count": 4,
   "id": "ec36a7dd",
   "metadata": {},
   "outputs": [
    {
     "data": {
      "text/html": [
       "<div>\n",
       "<style scoped>\n",
       "    .dataframe tbody tr th:only-of-type {\n",
       "        vertical-align: middle;\n",
       "    }\n",
       "\n",
       "    .dataframe tbody tr th {\n",
       "        vertical-align: top;\n",
       "    }\n",
       "\n",
       "    .dataframe thead th {\n",
       "        text-align: right;\n",
       "    }\n",
       "</style>\n",
       "<table border=\"1\" class=\"dataframe\">\n",
       "  <thead>\n",
       "    <tr style=\"text-align: right;\">\n",
       "      <th></th>\n",
       "      <th>State/UT</th>\n",
       "      <th>No of Retail Outlet's where EV Charging Facility available</th>\n",
       "    </tr>\n",
       "  </thead>\n",
       "  <tbody>\n",
       "    <tr>\n",
       "      <th>31</th>\n",
       "      <td>Grand Total</td>\n",
       "      <td>1536</td>\n",
       "    </tr>\n",
       "  </tbody>\n",
       "</table>\n",
       "</div>"
      ],
      "text/plain": [
       "       State/UT  No of Retail Outlet's where EV Charging Facility available\n",
       "31  Grand Total                                               1536         "
      ]
     },
     "execution_count": 4,
     "metadata": {},
     "output_type": "execute_result"
    }
   ],
   "source": [
    "df_outlets_per_state[df_outlets_per_state['State/UT']=='Grand Total']"
   ]
  },
  {
   "cell_type": "code",
   "execution_count": 5,
   "id": "4b16f2b7",
   "metadata": {},
   "outputs": [],
   "source": [
    "#delete 'Grand Total' row\n",
    "df_outlets_per_state=df_outlets_per_state.drop(31)"
   ]
  },
  {
   "cell_type": "code",
   "execution_count": 6,
   "id": "39364bb5",
   "metadata": {},
   "outputs": [
    {
     "data": {
      "text/html": [
       "<div>\n",
       "<style scoped>\n",
       "    .dataframe tbody tr th:only-of-type {\n",
       "        vertical-align: middle;\n",
       "    }\n",
       "\n",
       "    .dataframe tbody tr th {\n",
       "        vertical-align: top;\n",
       "    }\n",
       "\n",
       "    .dataframe thead th {\n",
       "        text-align: right;\n",
       "    }\n",
       "</style>\n",
       "<table border=\"1\" class=\"dataframe\">\n",
       "  <thead>\n",
       "    <tr style=\"text-align: right;\">\n",
       "      <th></th>\n",
       "      <th>No of Retail Outlet's where EV Charging Facility available</th>\n",
       "    </tr>\n",
       "  </thead>\n",
       "  <tbody>\n",
       "    <tr>\n",
       "      <th>count</th>\n",
       "      <td>31.000000</td>\n",
       "    </tr>\n",
       "    <tr>\n",
       "      <th>mean</th>\n",
       "      <td>49.548387</td>\n",
       "    </tr>\n",
       "    <tr>\n",
       "      <th>std</th>\n",
       "      <td>50.768651</td>\n",
       "    </tr>\n",
       "    <tr>\n",
       "      <th>min</th>\n",
       "      <td>1.000000</td>\n",
       "    </tr>\n",
       "    <tr>\n",
       "      <th>25%</th>\n",
       "      <td>4.000000</td>\n",
       "    </tr>\n",
       "    <tr>\n",
       "      <th>50%</th>\n",
       "      <td>26.000000</td>\n",
       "    </tr>\n",
       "    <tr>\n",
       "      <th>75%</th>\n",
       "      <td>81.500000</td>\n",
       "    </tr>\n",
       "    <tr>\n",
       "      <th>max</th>\n",
       "      <td>174.000000</td>\n",
       "    </tr>\n",
       "  </tbody>\n",
       "</table>\n",
       "</div>"
      ],
      "text/plain": [
       "       No of Retail Outlet's where EV Charging Facility available\n",
       "count                                          31.000000         \n",
       "mean                                           49.548387         \n",
       "std                                            50.768651         \n",
       "min                                             1.000000         \n",
       "25%                                             4.000000         \n",
       "50%                                            26.000000         \n",
       "75%                                            81.500000         \n",
       "max                                           174.000000         "
      ]
     },
     "execution_count": 6,
     "metadata": {},
     "output_type": "execute_result"
    }
   ],
   "source": [
    "df_outlets_per_state.describe()"
   ]
  },
  {
   "cell_type": "code",
   "execution_count": 7,
   "id": "e52425fe",
   "metadata": {},
   "outputs": [
    {
     "data": {
      "image/png": "[encoded data removed]",
      "text/plain": [
       "<Figure size 720x360 with 1 Axes>"
      ]
     },
     "metadata": {
      "needs_background": "light"
     },
     "output_type": "display_data"
    }
   ],
   "source": [
    "plt.figure(figsize=(10,5))\n",
    "sns.barplot(data=df_outlets_per_state,x='State/UT',y=\"No of Retail Outlet's where EV Charging Facility available\")\n",
    "plt.xticks(rotation=90)\n",
    "plt.show()"
   ]
  },
  {
   "cell_type": "code",
   "execution_count": 8,
   "id": "64f869e3",
   "metadata": {},
   "outputs": [
    {
     "data": {
      "text/html": [
       "<div>\n",
       "<style scoped>\n",
       "    .dataframe tbody tr th:only-of-type {\n",
       "        vertical-align: middle;\n",
       "    }\n",
       "\n",
       "    .dataframe tbody tr th {\n",
       "        vertical-align: top;\n",
       "    }\n",
       "\n",
       "    .dataframe thead th {\n",
       "        text-align: right;\n",
       "    }\n",
       "</style>\n",
       "<table border=\"1\" class=\"dataframe\">\n",
       "  <thead>\n",
       "    <tr style=\"text-align: right;\">\n",
       "      <th></th>\n",
       "      <th>State/UT</th>\n",
       "      <th>No of Retail Outlet's where EV Charging Facility available</th>\n",
       "    </tr>\n",
       "  </thead>\n",
       "  <tbody>\n",
       "    <tr>\n",
       "      <th>24</th>\n",
       "      <td>Rajasthan</td>\n",
       "      <td>174</td>\n",
       "    </tr>\n",
       "  </tbody>\n",
       "</table>\n",
       "</div>"
      ],
      "text/plain": [
       "     State/UT  No of Retail Outlet's where EV Charging Facility available\n",
       "24  Rajasthan                                                174         "
      ]
     },
     "execution_count": 8,
     "metadata": {},
     "output_type": "execute_result"
    }
   ],
   "source": [
    "#state with maximum no.of Retail Outlet's where EV Charging Facility is available\n",
    "df_outlets_per_state[df_outlets_per_state[\"No of Retail Outlet's where EV Charging Facility available\"]==174]"
   ]
  },
  {
   "cell_type": "code",
   "execution_count": 9,
   "id": "76055dfe",
   "metadata": {},
   "outputs": [
    {
     "data": {
      "text/html": [
       "<div>\n",
       "<style scoped>\n",
       "    .dataframe tbody tr th:only-of-type {\n",
       "        vertical-align: middle;\n",
       "    }\n",
       "\n",
       "    .dataframe tbody tr th {\n",
       "        vertical-align: top;\n",
       "    }\n",
       "\n",
       "    .dataframe thead th {\n",
       "        text-align: right;\n",
       "    }\n",
       "</style>\n",
       "<table border=\"1\" class=\"dataframe\">\n",
       "  <thead>\n",
       "    <tr style=\"text-align: right;\">\n",
       "      <th></th>\n",
       "      <th>State/UT</th>\n",
       "      <th>No of Retail Outlet's where EV Charging Facility available</th>\n",
       "    </tr>\n",
       "  </thead>\n",
       "  <tbody>\n",
       "    <tr>\n",
       "      <th>18</th>\n",
       "      <td>Manipur</td>\n",
       "      <td>1</td>\n",
       "    </tr>\n",
       "  </tbody>\n",
       "</table>\n",
       "</div>"
      ],
      "text/plain": [
       "   State/UT  No of Retail Outlet's where EV Charging Facility available\n",
       "18  Manipur                                                  1         "
      ]
     },
     "execution_count": 9,
     "metadata": {},
     "output_type": "execute_result"
    }
   ],
   "source": [
    "df_outlets_per_state[df_outlets_per_state[\"No of Retail Outlet's where EV Charging Facility available\"]==1]"
   ]
  },
  {
   "cell_type": "code",
   "execution_count": 10,
   "id": "9397db28",
   "metadata": {},
   "outputs": [
    {
     "data": {
      "text/plain": [
       "9"
      ]
     },
     "execution_count": 10,
     "metadata": {},
     "output_type": "execute_result"
    }
   ],
   "source": [
    "#state with no.of Retail Outlet's where EV Charging Facility is available less than 25\n",
    "df_outlets_per_state[df_outlets_per_state[\"No of Retail Outlet's where EV Charging Facility available\"]<10]['State/UT'].count()"
   ]
  },
  {
   "cell_type": "markdown",
   "id": "ef028eef",
   "metadata": {},
   "source": [
    "Total of 1536 EV  charging facilities are available in the country\n",
    "Average of around 50 EV charging facilities are available in each of the total 31 states.\n",
    "9 in the giving states/UT have less than 10 EV charging facilities.\n",
    "Rajasthan with 174 has the most number of Retail outlets with EV charging facility.\n",
    "Manipur has the least with only 1 EV charging facility."
   ]
  },
  {
   "cell_type": "code",
   "execution_count": 11,
   "id": "538a8d5f",
   "metadata": {},
   "outputs": [
    {
     "data": {
      "text/html": [
       "<div>\n",
       "<style scoped>\n",
       "    .dataframe tbody tr th:only-of-type {\n",
       "        vertical-align: middle;\n",
       "    }\n",
       "\n",
       "    .dataframe tbody tr th {\n",
       "        vertical-align: top;\n",
       "    }\n",
       "\n",
       "    .dataframe thead th {\n",
       "        text-align: right;\n",
       "    }\n",
       "</style>\n",
       "<table border=\"1\" class=\"dataframe\">\n",
       "  <thead>\n",
       "    <tr style=\"text-align: right;\">\n",
       "      <th></th>\n",
       "      <th>State/UT</th>\n",
       "      <th>No. of EV Chargers Sanctioned on march 22</th>\n",
       "    </tr>\n",
       "  </thead>\n",
       "  <tbody>\n",
       "    <tr>\n",
       "      <th>0</th>\n",
       "      <td>Maharashtra</td>\n",
       "      <td>317</td>\n",
       "    </tr>\n",
       "    <tr>\n",
       "      <th>1</th>\n",
       "      <td>Andhra Pradesh</td>\n",
       "      <td>266</td>\n",
       "    </tr>\n",
       "    <tr>\n",
       "      <th>2</th>\n",
       "      <td>Tamil Nadu</td>\n",
       "      <td>281</td>\n",
       "    </tr>\n",
       "    <tr>\n",
       "      <th>3</th>\n",
       "      <td>Gujarat</td>\n",
       "      <td>278</td>\n",
       "    </tr>\n",
       "    <tr>\n",
       "      <th>4</th>\n",
       "      <td>Uttar Pradesh</td>\n",
       "      <td>207</td>\n",
       "    </tr>\n",
       "  </tbody>\n",
       "</table>\n",
       "</div>"
      ],
      "text/plain": [
       "         State/UT  No. of EV Chargers Sanctioned on march 22\n",
       "0     Maharashtra                                        317\n",
       "1  Andhra Pradesh                                        266\n",
       "2      Tamil Nadu                                        281\n",
       "3         Gujarat                                        278\n",
       "4   Uttar Pradesh                                        207"
      ]
     },
     "execution_count": 11,
     "metadata": {},
     "output_type": "execute_result"
    }
   ],
   "source": [
    "df_chargers_sanctioned=pd.read_csv('RS_Session_256_AU_2673_2.i.csv')\n",
    "df_chargers_sanctioned.head()"
   ]
  },
  {
   "cell_type": "code",
   "execution_count": 12,
   "id": "abc2f90a",
   "metadata": {},
   "outputs": [
    {
     "data": {
      "text/html": [
       "<div>\n",
       "<style scoped>\n",
       "    .dataframe tbody tr th:only-of-type {\n",
       "        vertical-align: middle;\n",
       "    }\n",
       "\n",
       "    .dataframe tbody tr th {\n",
       "        vertical-align: top;\n",
       "    }\n",
       "\n",
       "    .dataframe thead th {\n",
       "        text-align: right;\n",
       "    }\n",
       "</style>\n",
       "<table border=\"1\" class=\"dataframe\">\n",
       "  <thead>\n",
       "    <tr style=\"text-align: right;\">\n",
       "      <th></th>\n",
       "      <th>State/UT</th>\n",
       "      <th>No. of EV Chargers Sanctioned on march 22</th>\n",
       "    </tr>\n",
       "  </thead>\n",
       "  <tbody>\n",
       "    <tr>\n",
       "      <th>25</th>\n",
       "      <td>Total</td>\n",
       "      <td>2877</td>\n",
       "    </tr>\n",
       "  </tbody>\n",
       "</table>\n",
       "</div>"
      ],
      "text/plain": [
       "   State/UT  No. of EV Chargers Sanctioned on march 22\n",
       "25    Total                                       2877"
      ]
     },
     "execution_count": 12,
     "metadata": {},
     "output_type": "execute_result"
    }
   ],
   "source": [
    "df_chargers_sanctioned[df_chargers_sanctioned['State/UT']=='Total']"
   ]
  },
  {
   "cell_type": "code",
   "execution_count": 13,
   "id": "c7c5e0a6",
   "metadata": {},
   "outputs": [],
   "source": [
    "#delete 'total' row\n",
    "df_chargers_sanctioned=df_chargers_sanctioned.drop(25)"
   ]
  },
  {
   "cell_type": "code",
   "execution_count": 14,
   "id": "700aa94b",
   "metadata": {},
   "outputs": [
    {
     "data": {
      "text/plain": [
       "25"
      ]
     },
     "execution_count": 14,
     "metadata": {},
     "output_type": "execute_result"
    }
   ],
   "source": [
    "df_chargers_sanctioned['State/UT'].nunique()"
   ]
  },
  {
   "cell_type": "code",
   "execution_count": 15,
   "id": "73cc1438",
   "metadata": {},
   "outputs": [
    {
     "data": {
      "text/html": [
       "<div>\n",
       "<style scoped>\n",
       "    .dataframe tbody tr th:only-of-type {\n",
       "        vertical-align: middle;\n",
       "    }\n",
       "\n",
       "    .dataframe tbody tr th {\n",
       "        vertical-align: top;\n",
       "    }\n",
       "\n",
       "    .dataframe thead th {\n",
       "        text-align: right;\n",
       "    }\n",
       "</style>\n",
       "<table border=\"1\" class=\"dataframe\">\n",
       "  <thead>\n",
       "    <tr style=\"text-align: right;\">\n",
       "      <th></th>\n",
       "      <th>No. of EV Chargers Sanctioned on march 22</th>\n",
       "    </tr>\n",
       "  </thead>\n",
       "  <tbody>\n",
       "    <tr>\n",
       "      <th>count</th>\n",
       "      <td>25.000000</td>\n",
       "    </tr>\n",
       "    <tr>\n",
       "      <th>mean</th>\n",
       "      <td>115.080000</td>\n",
       "    </tr>\n",
       "    <tr>\n",
       "      <th>std</th>\n",
       "      <td>105.731941</td>\n",
       "    </tr>\n",
       "    <tr>\n",
       "      <th>min</th>\n",
       "      <td>10.000000</td>\n",
       "    </tr>\n",
       "    <tr>\n",
       "      <th>25%</th>\n",
       "      <td>25.000000</td>\n",
       "    </tr>\n",
       "    <tr>\n",
       "      <th>50%</th>\n",
       "      <td>70.000000</td>\n",
       "    </tr>\n",
       "    <tr>\n",
       "      <th>75%</th>\n",
       "      <td>207.000000</td>\n",
       "    </tr>\n",
       "    <tr>\n",
       "      <th>max</th>\n",
       "      <td>317.000000</td>\n",
       "    </tr>\n",
       "  </tbody>\n",
       "</table>\n",
       "</div>"
      ],
      "text/plain": [
       "       No. of EV Chargers Sanctioned on march 22\n",
       "count                                  25.000000\n",
       "mean                                  115.080000\n",
       "std                                   105.731941\n",
       "min                                    10.000000\n",
       "25%                                    25.000000\n",
       "50%                                    70.000000\n",
       "75%                                   207.000000\n",
       "max                                   317.000000"
      ]
     },
     "execution_count": 15,
     "metadata": {},
     "output_type": "execute_result"
    }
   ],
   "source": [
    "df_chargers_sanctioned.describe()"
   ]
  },
  {
   "cell_type": "code",
   "execution_count": 16,
   "id": "92a70f56",
   "metadata": {},
   "outputs": [
    {
     "data": {
      "image/png": "[encoded data removed]",
      "text/plain": [
       "<Figure size 720x360 with 1 Axes>"
      ]
     },
     "metadata": {
      "needs_background": "light"
     },
     "output_type": "display_data"
    }
   ],
   "source": [
    "plt.figure(figsize=(10,5))\n",
    "sns.barplot(data=df_chargers_sanctioned,x='State/UT',y=\"No. of EV Chargers Sanctioned on march 22\")\n",
    "plt.xticks(rotation=90)\n",
    "plt.show()"
   ]
  },
  {
   "cell_type": "code",
   "execution_count": 17,
   "id": "69b87d9d",
   "metadata": {},
   "outputs": [
    {
     "data": {
      "text/html": [
       "<div>\n",
       "<style scoped>\n",
       "    .dataframe tbody tr th:only-of-type {\n",
       "        vertical-align: middle;\n",
       "    }\n",
       "\n",
       "    .dataframe tbody tr th {\n",
       "        vertical-align: top;\n",
       "    }\n",
       "\n",
       "    .dataframe thead th {\n",
       "        text-align: right;\n",
       "    }\n",
       "</style>\n",
       "<table border=\"1\" class=\"dataframe\">\n",
       "  <thead>\n",
       "    <tr style=\"text-align: right;\">\n",
       "      <th></th>\n",
       "      <th>State/UT</th>\n",
       "      <th>No. of EV Chargers Sanctioned on march 22</th>\n",
       "    </tr>\n",
       "  </thead>\n",
       "  <tbody>\n",
       "    <tr>\n",
       "      <th>0</th>\n",
       "      <td>Maharashtra</td>\n",
       "      <td>317</td>\n",
       "    </tr>\n",
       "  </tbody>\n",
       "</table>\n",
       "</div>"
      ],
      "text/plain": [
       "      State/UT  No. of EV Chargers Sanctioned on march 22\n",
       "0  Maharashtra                                        317"
      ]
     },
     "execution_count": 17,
     "metadata": {},
     "output_type": "execute_result"
    }
   ],
   "source": [
    "df_chargers_sanctioned[df_chargers_sanctioned['No. of EV Chargers Sanctioned on march 22']==317]"
   ]
  },
  {
   "cell_type": "markdown",
   "id": "204d6135",
   "metadata": {},
   "source": [
    "on an average of 115, 2877 EV chargers were sanctiones to 25 different states/UT. Maximum number of EV charging facilities(317) were sanctiones to Maharashtra.Atleast a 10 facilities were sanctioned to each state in the list."
   ]
  },
  {
   "cell_type": "code",
   "execution_count": 18,
   "id": "9dedce70",
   "metadata": {},
   "outputs": [
    {
     "data": {
      "text/html": [
       "<div>\n",
       "<style scoped>\n",
       "    .dataframe tbody tr th:only-of-type {\n",
       "        vertical-align: middle;\n",
       "    }\n",
       "\n",
       "    .dataframe tbody tr th {\n",
       "        vertical-align: top;\n",
       "    }\n",
       "\n",
       "    .dataframe thead th {\n",
       "        text-align: right;\n",
       "    }\n",
       "</style>\n",
       "<table border=\"1\" class=\"dataframe\">\n",
       "  <thead>\n",
       "    <tr style=\"text-align: right;\">\n",
       "      <th></th>\n",
       "      <th>Category of e-Vehicle</th>\n",
       "      <th>OEM’s Registered</th>\n",
       "      <th>Vehicle Sold as on 06th December, 2021</th>\n",
       "    </tr>\n",
       "  </thead>\n",
       "  <tbody>\n",
       "    <tr>\n",
       "      <th>0</th>\n",
       "      <td>e-2W</td>\n",
       "      <td>Ather Energy, Ampere Vehicles, Okinawa, Jitend...</td>\n",
       "      <td>144329</td>\n",
       "    </tr>\n",
       "    <tr>\n",
       "      <th>1</th>\n",
       "      <td>e-3W(including e-Rickshaws &amp; e-cart )</td>\n",
       "      <td>Mahindra Electric,Kinetic,Champion,Victory Ele...</td>\n",
       "      <td>29104</td>\n",
       "    </tr>\n",
       "    <tr>\n",
       "      <th>2</th>\n",
       "      <td>e-4W</td>\n",
       "      <td>Tata Motors, Mahindra &amp; Mahindra</td>\n",
       "      <td>1885</td>\n",
       "    </tr>\n",
       "    <tr>\n",
       "      <th>3</th>\n",
       "      <td>Total</td>\n",
       "      <td>Total</td>\n",
       "      <td>175318</td>\n",
       "    </tr>\n",
       "  </tbody>\n",
       "</table>\n",
       "</div>"
      ],
      "text/plain": [
       "                   Category of e-Vehicle  \\\n",
       "0                                   e-2W   \n",
       "1  e-3W(including e-Rickshaws & e-cart )   \n",
       "2                                   e-4W   \n",
       "3                                  Total   \n",
       "\n",
       "                                    OEM’s Registered  \\\n",
       "0  Ather Energy, Ampere Vehicles, Okinawa, Jitend...   \n",
       "1  Mahindra Electric,Kinetic,Champion,Victory Ele...   \n",
       "2                   Tata Motors, Mahindra & Mahindra   \n",
       "3                                              Total   \n",
       "\n",
       "   Vehicle Sold as on 06th December, 2021  \n",
       "0                                  144329  \n",
       "1                                   29104  \n",
       "2                                    1885  \n",
       "3                                  175318  "
      ]
     },
     "execution_count": 18,
     "metadata": {},
     "output_type": "execute_result"
    }
   ],
   "source": [
    "df_evehicle_categories=pd.read_csv('RS_Session_255_AU_1562_1.csv')\n",
    "df_evehicle_categories.head()"
   ]
  },
  {
   "cell_type": "code",
   "execution_count": 19,
   "id": "2d47b235",
   "metadata": {},
   "outputs": [],
   "source": [
    "#delete 'total' row\n",
    "df_evehicle_categories=df_evehicle_categories.drop(3)"
   ]
  },
  {
   "cell_type": "code",
   "execution_count": 20,
   "id": "f73ce00a",
   "metadata": {},
   "outputs": [
    {
     "data": {
      "text/plain": [
       "<AxesSubplot:xlabel='Category of e-Vehicle', ylabel='Vehicle Sold as on 06th December, 2021'>"
      ]
     },
     "execution_count": 20,
     "metadata": {},
     "output_type": "execute_result"
    },
    {
     "data": {
      "image/png": "[encoded data removed]",
      "text/plain": [
       "<Figure size 432x288 with 1 Axes>"
      ]
     },
     "metadata": {
      "needs_background": "light"
     },
     "output_type": "display_data"
    }
   ],
   "source": [
    "#barplot of category vs no of vehicles sold\n",
    "sns.barplot(data=df_evehicle_categories,x='Category of e-Vehicle',y='Vehicle Sold as on 06th December, 2021')"
   ]
  },
  {
   "cell_type": "code",
   "execution_count": 21,
   "id": "3d5dec77",
   "metadata": {},
   "outputs": [
    {
     "data": {
      "text/html": [
       "<div>\n",
       "<style scoped>\n",
       "    .dataframe tbody tr th:only-of-type {\n",
       "        vertical-align: middle;\n",
       "    }\n",
       "\n",
       "    .dataframe tbody tr th {\n",
       "        vertical-align: top;\n",
       "    }\n",
       "\n",
       "    .dataframe thead th {\n",
       "        text-align: right;\n",
       "    }\n",
       "</style>\n",
       "<table border=\"1\" class=\"dataframe\">\n",
       "  <thead>\n",
       "    <tr style=\"text-align: right;\">\n",
       "      <th></th>\n",
       "      <th>hoi</th>\n",
       "      <th>State/UT</th>\n",
       "      <th>Total Number of Invoices/Sales</th>\n",
       "    </tr>\n",
       "  </thead>\n",
       "  <tbody>\n",
       "    <tr>\n",
       "      <th>0</th>\n",
       "      <td>1</td>\n",
       "      <td>Jammu Kashmir</td>\n",
       "      <td>1036</td>\n",
       "    </tr>\n",
       "    <tr>\n",
       "      <th>1</th>\n",
       "      <td>2</td>\n",
       "      <td>Himachal Pradesh</td>\n",
       "      <td>446</td>\n",
       "    </tr>\n",
       "    <tr>\n",
       "      <th>2</th>\n",
       "      <td>3</td>\n",
       "      <td>Punjab</td>\n",
       "      <td>2977</td>\n",
       "    </tr>\n",
       "    <tr>\n",
       "      <th>3</th>\n",
       "      <td>4</td>\n",
       "      <td>Chandigarh</td>\n",
       "      <td>154</td>\n",
       "    </tr>\n",
       "    <tr>\n",
       "      <th>4</th>\n",
       "      <td>5</td>\n",
       "      <td>Uttarakhand</td>\n",
       "      <td>2288</td>\n",
       "    </tr>\n",
       "  </tbody>\n",
       "</table>\n",
       "</div>"
      ],
      "text/plain": [
       "  hoi          State/UT  Total Number of Invoices/Sales\n",
       "0   1     Jammu Kashmir                            1036\n",
       "1   2  Himachal Pradesh                             446\n",
       "2   3            Punjab                            2977\n",
       "3   4        Chandigarh                             154\n",
       "4   5       Uttarakhand                            2288"
      ]
     },
     "execution_count": 21,
     "metadata": {},
     "output_type": "execute_result"
    }
   ],
   "source": [
    "df_sales_per_state=pd.read_csv('RS_Session_255_AU_2349_2.csv')\n",
    "df_sales_per_state.head()"
   ]
  },
  {
   "cell_type": "code",
   "execution_count": 22,
   "id": "097731a7",
   "metadata": {},
   "outputs": [
    {
     "data": {
      "text/html": [
       "<div>\n",
       "<style scoped>\n",
       "    .dataframe tbody tr th:only-of-type {\n",
       "        vertical-align: middle;\n",
       "    }\n",
       "\n",
       "    .dataframe tbody tr th {\n",
       "        vertical-align: top;\n",
       "    }\n",
       "\n",
       "    .dataframe thead th {\n",
       "        text-align: right;\n",
       "    }\n",
       "</style>\n",
       "<table border=\"1\" class=\"dataframe\">\n",
       "  <thead>\n",
       "    <tr style=\"text-align: right;\">\n",
       "      <th></th>\n",
       "      <th>hoi</th>\n",
       "      <th>State/UT</th>\n",
       "      <th>Total Number of Invoices/Sales</th>\n",
       "    </tr>\n",
       "  </thead>\n",
       "  <tbody>\n",
       "    <tr>\n",
       "      <th>34</th>\n",
       "      <td>Total</td>\n",
       "      <td>Total</td>\n",
       "      <td>178521</td>\n",
       "    </tr>\n",
       "  </tbody>\n",
       "</table>\n",
       "</div>"
      ],
      "text/plain": [
       "      hoi State/UT  Total Number of Invoices/Sales\n",
       "34  Total    Total                          178521"
      ]
     },
     "execution_count": 22,
     "metadata": {},
     "output_type": "execute_result"
    }
   ],
   "source": [
    "df_sales_per_state[df_sales_per_state['hoi']=='Total']"
   ]
  },
  {
   "cell_type": "code",
   "execution_count": 23,
   "id": "891011a6",
   "metadata": {},
   "outputs": [],
   "source": [
    "#delete 'total' row\n",
    "df_sales_per_state=df_sales_per_state.drop(34)"
   ]
  },
  {
   "cell_type": "code",
   "execution_count": 24,
   "id": "48991b68",
   "metadata": {},
   "outputs": [],
   "source": [
    "df_sales_per_state.drop('hoi',axis=1,inplace=True)"
   ]
  },
  {
   "cell_type": "code",
   "execution_count": 25,
   "id": "d5d69234",
   "metadata": {},
   "outputs": [
    {
     "data": {
      "text/html": [
       "<div>\n",
       "<style scoped>\n",
       "    .dataframe tbody tr th:only-of-type {\n",
       "        vertical-align: middle;\n",
       "    }\n",
       "\n",
       "    .dataframe tbody tr th {\n",
       "        vertical-align: top;\n",
       "    }\n",
       "\n",
       "    .dataframe thead th {\n",
       "        text-align: right;\n",
       "    }\n",
       "</style>\n",
       "<table border=\"1\" class=\"dataframe\">\n",
       "  <thead>\n",
       "    <tr style=\"text-align: right;\">\n",
       "      <th></th>\n",
       "      <th>Total Number of Invoices/Sales</th>\n",
       "    </tr>\n",
       "  </thead>\n",
       "  <tbody>\n",
       "    <tr>\n",
       "      <th>count</th>\n",
       "      <td>34.000000</td>\n",
       "    </tr>\n",
       "    <tr>\n",
       "      <th>mean</th>\n",
       "      <td>5250.617647</td>\n",
       "    </tr>\n",
       "    <tr>\n",
       "      <th>std</th>\n",
       "      <td>7829.719891</td>\n",
       "    </tr>\n",
       "    <tr>\n",
       "      <th>min</th>\n",
       "      <td>1.000000</td>\n",
       "    </tr>\n",
       "    <tr>\n",
       "      <th>25%</th>\n",
       "      <td>180.250000</td>\n",
       "    </tr>\n",
       "    <tr>\n",
       "      <th>50%</th>\n",
       "      <td>2081.000000</td>\n",
       "    </tr>\n",
       "    <tr>\n",
       "      <th>75%</th>\n",
       "      <td>6189.250000</td>\n",
       "    </tr>\n",
       "    <tr>\n",
       "      <th>max</th>\n",
       "      <td>33483.000000</td>\n",
       "    </tr>\n",
       "  </tbody>\n",
       "</table>\n",
       "</div>"
      ],
      "text/plain": [
       "       Total Number of Invoices/Sales\n",
       "count                       34.000000\n",
       "mean                      5250.617647\n",
       "std                       7829.719891\n",
       "min                          1.000000\n",
       "25%                        180.250000\n",
       "50%                       2081.000000\n",
       "75%                       6189.250000\n",
       "max                      33483.000000"
      ]
     },
     "execution_count": 25,
     "metadata": {},
     "output_type": "execute_result"
    }
   ],
   "source": [
    "df_sales_per_state.describe()"
   ]
  },
  {
   "cell_type": "code",
   "execution_count": 26,
   "id": "f59573a8",
   "metadata": {},
   "outputs": [
    {
     "data": {
      "image/png": "[encoded data removed]",
      "text/plain": [
       "<Figure size 720x360 with 1 Axes>"
      ]
     },
     "metadata": {
      "needs_background": "light"
     },
     "output_type": "display_data"
    }
   ],
   "source": [
    "plt.figure(figsize=(10,5))\n",
    "sns.barplot(data=df_sales_per_state,x='State/UT',y=\"Total Number of Invoices/Sales\")\n",
    "plt.xticks(rotation=90)\n",
    "plt.show()"
   ]
  },
  {
   "cell_type": "code",
   "execution_count": 27,
   "id": "e088e7cd",
   "metadata": {},
   "outputs": [
    {
     "data": {
      "text/html": [
       "<div>\n",
       "<style scoped>\n",
       "    .dataframe tbody tr th:only-of-type {\n",
       "        vertical-align: middle;\n",
       "    }\n",
       "\n",
       "    .dataframe tbody tr th {\n",
       "        vertical-align: top;\n",
       "    }\n",
       "\n",
       "    .dataframe thead th {\n",
       "        text-align: right;\n",
       "    }\n",
       "</style>\n",
       "<table border=\"1\" class=\"dataframe\">\n",
       "  <thead>\n",
       "    <tr style=\"text-align: right;\">\n",
       "      <th></th>\n",
       "      <th>State/UT</th>\n",
       "      <th>Total Number of Invoices/Sales</th>\n",
       "    </tr>\n",
       "  </thead>\n",
       "  <tbody>\n",
       "    <tr>\n",
       "      <th>24</th>\n",
       "      <td>Karnataka</td>\n",
       "      <td>33483</td>\n",
       "    </tr>\n",
       "  </tbody>\n",
       "</table>\n",
       "</div>"
      ],
      "text/plain": [
       "     State/UT  Total Number of Invoices/Sales\n",
       "24  Karnataka                           33483"
      ]
     },
     "execution_count": 27,
     "metadata": {},
     "output_type": "execute_result"
    }
   ],
   "source": [
    "df_sales_per_state[df_sales_per_state['Total Number of Invoices/Sales']==33483]"
   ]
  },
  {
   "cell_type": "code",
   "execution_count": 28,
   "id": "69b09a95",
   "metadata": {},
   "outputs": [
    {
     "data": {
      "text/plain": [
       "11"
      ]
     },
     "execution_count": 28,
     "metadata": {},
     "output_type": "execute_result"
    }
   ],
   "source": [
    "df_sales_per_state[df_sales_per_state['Total Number of Invoices/Sales']>=5000]['State/UT'].count()"
   ]
  },
  {
   "cell_type": "markdown",
   "id": "e22da055",
   "metadata": {},
   "source": [
    "A total of 178521 sales took place in the country\n",
    "average of around 5250 sales across all the states/UT\n",
    "karnataka has the most number of sales with 33483\n",
    "only 11 states have sales greater than 5000"
   ]
  },
  {
   "cell_type": "code",
   "execution_count": 29,
   "id": "46f77979",
   "metadata": {},
   "outputs": [
    {
     "data": {
      "text/html": [
       "<div>\n",
       "<style scoped>\n",
       "    .dataframe tbody tr th:only-of-type {\n",
       "        vertical-align: middle;\n",
       "    }\n",
       "\n",
       "    .dataframe tbody tr th {\n",
       "        vertical-align: top;\n",
       "    }\n",
       "\n",
       "    .dataframe thead th {\n",
       "        text-align: right;\n",
       "    }\n",
       "</style>\n",
       "<table border=\"1\" class=\"dataframe\">\n",
       "  <thead>\n",
       "    <tr style=\"text-align: right;\">\n",
       "      <th></th>\n",
       "      <th>Brand</th>\n",
       "      <th>Model</th>\n",
       "      <th>Accel</th>\n",
       "      <th>TopSpeed</th>\n",
       "      <th>Range</th>\n",
       "      <th>Efficiency</th>\n",
       "      <th>FastCharge</th>\n",
       "      <th>RapidCharge</th>\n",
       "      <th>PowerTrain</th>\n",
       "      <th>PlugType</th>\n",
       "      <th>BodyStyle</th>\n",
       "      <th>Segment</th>\n",
       "      <th>Seats</th>\n",
       "      <th>PriceEuro</th>\n",
       "    </tr>\n",
       "  </thead>\n",
       "  <tbody>\n",
       "    <tr>\n",
       "      <th>0</th>\n",
       "      <td>Tesla</td>\n",
       "      <td>Model 3 Long Range Dual Motor</td>\n",
       "      <td>4.6 sec</td>\n",
       "      <td>233 km/h</td>\n",
       "      <td>450 km</td>\n",
       "      <td>161 Wh/km</td>\n",
       "      <td>940 km/h</td>\n",
       "      <td>Rapid charging possible</td>\n",
       "      <td>All Wheel Drive</td>\n",
       "      <td>Type 2 CCS</td>\n",
       "      <td>Sedan</td>\n",
       "      <td>D</td>\n",
       "      <td>5</td>\n",
       "      <td>55480</td>\n",
       "    </tr>\n",
       "    <tr>\n",
       "      <th>1</th>\n",
       "      <td>Volkswagen</td>\n",
       "      <td>ID.3 Pure</td>\n",
       "      <td>10.0 sec</td>\n",
       "      <td>160 km/h</td>\n",
       "      <td>270 km</td>\n",
       "      <td>167 Wh/km</td>\n",
       "      <td>250 km/h</td>\n",
       "      <td>Rapid charging possible</td>\n",
       "      <td>Rear Wheel Drive</td>\n",
       "      <td>Type 2 CCS</td>\n",
       "      <td>Hatchback</td>\n",
       "      <td>C</td>\n",
       "      <td>5</td>\n",
       "      <td>30000</td>\n",
       "    </tr>\n",
       "    <tr>\n",
       "      <th>2</th>\n",
       "      <td>Polestar</td>\n",
       "      <td>2</td>\n",
       "      <td>4.7 sec</td>\n",
       "      <td>210 km/h</td>\n",
       "      <td>400 km</td>\n",
       "      <td>181 Wh/km</td>\n",
       "      <td>620 km/h</td>\n",
       "      <td>Rapid charging possible</td>\n",
       "      <td>All Wheel Drive</td>\n",
       "      <td>Type 2 CCS</td>\n",
       "      <td>Liftback</td>\n",
       "      <td>D</td>\n",
       "      <td>5</td>\n",
       "      <td>56440</td>\n",
       "    </tr>\n",
       "    <tr>\n",
       "      <th>3</th>\n",
       "      <td>BMW</td>\n",
       "      <td>iX3</td>\n",
       "      <td>6.8 sec</td>\n",
       "      <td>180 km/h</td>\n",
       "      <td>360 km</td>\n",
       "      <td>206 Wh/km</td>\n",
       "      <td>560 km/h</td>\n",
       "      <td>Rapid charging possible</td>\n",
       "      <td>Rear Wheel Drive</td>\n",
       "      <td>Type 2 CCS</td>\n",
       "      <td>SUV</td>\n",
       "      <td>D</td>\n",
       "      <td>5</td>\n",
       "      <td>68040</td>\n",
       "    </tr>\n",
       "    <tr>\n",
       "      <th>4</th>\n",
       "      <td>Honda</td>\n",
       "      <td>e</td>\n",
       "      <td>9.5 sec</td>\n",
       "      <td>145 km/h</td>\n",
       "      <td>170 km</td>\n",
       "      <td>168 Wh/km</td>\n",
       "      <td>190 km/h</td>\n",
       "      <td>Rapid charging possible</td>\n",
       "      <td>Rear Wheel Drive</td>\n",
       "      <td>Type 2 CCS</td>\n",
       "      <td>Hatchback</td>\n",
       "      <td>B</td>\n",
       "      <td>4</td>\n",
       "      <td>32997</td>\n",
       "    </tr>\n",
       "  </tbody>\n",
       "</table>\n",
       "</div>"
      ],
      "text/plain": [
       "         Brand                          Model     Accel  TopSpeed   Range  \\\n",
       "0       Tesla   Model 3 Long Range Dual Motor   4.6 sec  233 km/h  450 km   \n",
       "1  Volkswagen                       ID.3 Pure  10.0 sec  160 km/h  270 km   \n",
       "2    Polestar                               2   4.7 sec  210 km/h  400 km   \n",
       "3         BMW                            iX3    6.8 sec  180 km/h  360 km   \n",
       "4       Honda                              e    9.5 sec  145 km/h  170 km   \n",
       "\n",
       "  Efficiency FastCharge              RapidCharge        PowerTrain  \\\n",
       "0  161 Wh/km   940 km/h  Rapid charging possible   All Wheel Drive   \n",
       "1  167 Wh/km   250 km/h  Rapid charging possible  Rear Wheel Drive   \n",
       "2  181 Wh/km   620 km/h  Rapid charging possible   All Wheel Drive   \n",
       "3  206 Wh/km   560 km/h  Rapid charging possible  Rear Wheel Drive   \n",
       "4  168 Wh/km   190 km/h  Rapid charging possible  Rear Wheel Drive   \n",
       "\n",
       "     PlugType  BodyStyle Segment  Seats  PriceEuro  \n",
       "0  Type 2 CCS      Sedan       D      5      55480  \n",
       "1  Type 2 CCS  Hatchback       C      5      30000  \n",
       "2  Type 2 CCS   Liftback       D      5      56440  \n",
       "3  Type 2 CCS        SUV       D      5      68040  \n",
       "4  Type 2 CCS  Hatchback       B      4      32997  "
      ]
     },
     "execution_count": 29,
     "metadata": {},
     "output_type": "execute_result"
    }
   ],
   "source": [
    "df_ecar=pd.read_csv('ElectricCarData_Norm.csv')\n",
    "df_ecar.head()"
   ]
  },
  {
   "cell_type": "code",
   "execution_count": 30,
   "id": "0b913c73",
   "metadata": {},
   "outputs": [],
   "source": [
    "df_ecar.drop_duplicates(inplace=True)"
   ]
  },
  {
   "cell_type": "code",
   "execution_count": 31,
   "id": "3a54ecc2",
   "metadata": {},
   "outputs": [
    {
     "data": {
      "text/plain": [
       "33"
      ]
     },
     "execution_count": 31,
     "metadata": {},
     "output_type": "execute_result"
    }
   ],
   "source": [
    "df_ecar['Brand'].nunique()"
   ]
  },
  {
   "cell_type": "code",
   "execution_count": 32,
   "id": "23eece38",
   "metadata": {},
   "outputs": [
    {
     "data": {
      "text/plain": [
       "Tesla          13\n",
       "Audi            9\n",
       "Nissan          8\n",
       "Volkswagen      8\n",
       "Skoda           6\n",
       "Renault         5\n",
       "Porsche         5\n",
       "Kia             5\n",
       "BMW             4\n",
       "Ford            4\n",
       "Smart           3\n",
       "Byton           3\n",
       "Mercedes        3\n",
       "Hyundai         3\n",
       "Opel            3\n",
       "Fiat            2\n",
       "Peugeot         2\n",
       "Honda           2\n",
       "Mini            1\n",
       "DS              1\n",
       "Polestar        1\n",
       "Sono            1\n",
       "Lucid           1\n",
       "Jaguar          1\n",
       "Citroen         1\n",
       "Aiways          1\n",
       "MG              1\n",
       "Lightyear       1\n",
       "SEAT            1\n",
       "CUPRA           1\n",
       "Lexus           1\n",
       "Mazda           1\n",
       "Volvo           1\n",
       "Name: Brand, dtype: int64"
      ]
     },
     "execution_count": 32,
     "metadata": {},
     "output_type": "execute_result"
    }
   ],
   "source": [
    "df_ecar['Brand'].value_counts()"
   ]
  },
  {
   "cell_type": "code",
   "execution_count": 33,
   "id": "b2ec0b43",
   "metadata": {},
   "outputs": [
    {
     "data": {
      "text/plain": [
       "102"
      ]
     },
     "execution_count": 33,
     "metadata": {},
     "output_type": "execute_result"
    }
   ],
   "source": [
    "df_ecar['Model'].nunique()"
   ]
  },
  {
   "cell_type": "code",
   "execution_count": 34,
   "id": "3aa3d7d6",
   "metadata": {},
   "outputs": [
    {
     "data": {
      "text/plain": [
       "e-Soul 64 kWh                    2\n",
       "Model 3 Long Range Dual Motor    1\n",
       "Mustang Mach-E ER RWD            1\n",
       "Sion                             1\n",
       "M-Byte 95 kWh 4WD                1\n",
       "                                ..\n",
       "e-Niro 64 kWh                    1\n",
       "e-tron 50 quattro                1\n",
       "e-2008 SUV                       1\n",
       "i3 120 Ah                        1\n",
       "M-Byte 95 kWh 2WD                1\n",
       "Name: Model, Length: 102, dtype: int64"
      ]
     },
     "execution_count": 34,
     "metadata": {},
     "output_type": "execute_result"
    }
   ],
   "source": [
    "df_ecar['Model'].value_counts()"
   ]
  },
  {
   "cell_type": "code",
   "execution_count": 35,
   "id": "c65f486b",
   "metadata": {},
   "outputs": [
    {
     "data": {
      "text/html": [
       "<div>\n",
       "<style scoped>\n",
       "    .dataframe tbody tr th:only-of-type {\n",
       "        vertical-align: middle;\n",
       "    }\n",
       "\n",
       "    .dataframe tbody tr th {\n",
       "        vertical-align: top;\n",
       "    }\n",
       "\n",
       "    .dataframe thead th {\n",
       "        text-align: right;\n",
       "    }\n",
       "</style>\n",
       "<table border=\"1\" class=\"dataframe\">\n",
       "  <thead>\n",
       "    <tr style=\"text-align: right;\">\n",
       "      <th></th>\n",
       "      <th>Brand</th>\n",
       "      <th>Model</th>\n",
       "      <th>Accel</th>\n",
       "      <th>TopSpeed</th>\n",
       "      <th>Range</th>\n",
       "      <th>Efficiency</th>\n",
       "      <th>FastCharge</th>\n",
       "      <th>RapidCharge</th>\n",
       "      <th>PowerTrain</th>\n",
       "      <th>PlugType</th>\n",
       "      <th>BodyStyle</th>\n",
       "      <th>Segment</th>\n",
       "      <th>Seats</th>\n",
       "      <th>PriceEuro</th>\n",
       "    </tr>\n",
       "  </thead>\n",
       "  <tbody>\n",
       "    <tr>\n",
       "      <th>45</th>\n",
       "      <td>Kia</td>\n",
       "      <td>e-Soul 64 kWh</td>\n",
       "      <td>7.9 sec</td>\n",
       "      <td>167 km/h</td>\n",
       "      <td>365 km</td>\n",
       "      <td>175 Wh/km</td>\n",
       "      <td>340 km/h</td>\n",
       "      <td>Rapid charging possible</td>\n",
       "      <td>Front Wheel Drive</td>\n",
       "      <td>Type 2 CCS</td>\n",
       "      <td>SUV</td>\n",
       "      <td>B</td>\n",
       "      <td>5</td>\n",
       "      <td>36837</td>\n",
       "    </tr>\n",
       "    <tr>\n",
       "      <th>92</th>\n",
       "      <td>Kia</td>\n",
       "      <td>e-Soul 64 kWh</td>\n",
       "      <td>7.9 sec</td>\n",
       "      <td>167 km/h</td>\n",
       "      <td>365 km</td>\n",
       "      <td>175 Wh/km</td>\n",
       "      <td>320 km/h</td>\n",
       "      <td>Rapid charging possible</td>\n",
       "      <td>Front Wheel Drive</td>\n",
       "      <td>Type 2 CCS</td>\n",
       "      <td>SUV</td>\n",
       "      <td>B</td>\n",
       "      <td>5</td>\n",
       "      <td>36837</td>\n",
       "    </tr>\n",
       "  </tbody>\n",
       "</table>\n",
       "</div>"
      ],
      "text/plain": [
       "   Brand          Model    Accel  TopSpeed   Range Efficiency FastCharge  \\\n",
       "45  Kia   e-Soul 64 kWh  7.9 sec  167 km/h  365 km  175 Wh/km   340 km/h   \n",
       "92  Kia   e-Soul 64 kWh  7.9 sec  167 km/h  365 km  175 Wh/km   320 km/h   \n",
       "\n",
       "                RapidCharge         PowerTrain    PlugType BodyStyle Segment  \\\n",
       "45  Rapid charging possible  Front Wheel Drive  Type 2 CCS       SUV       B   \n",
       "92  Rapid charging possible  Front Wheel Drive  Type 2 CCS       SUV       B   \n",
       "\n",
       "    Seats  PriceEuro  \n",
       "45      5      36837  \n",
       "92      5      36837  "
      ]
     },
     "execution_count": 35,
     "metadata": {},
     "output_type": "execute_result"
    }
   ],
   "source": [
    "df_ecar[df_ecar['Model']=='e-Soul 64 kWh']"
   ]
  },
  {
   "cell_type": "code",
   "execution_count": 36,
   "id": "ba02d433",
   "metadata": {},
   "outputs": [],
   "source": [
    "df_ecar=df_ecar.drop(92)"
   ]
  },
  {
   "cell_type": "code",
   "execution_count": 37,
   "id": "24360090",
   "metadata": {},
   "outputs": [],
   "source": [
    "accel=[]\n",
    "for i in df_ecar['Accel']:\n",
    "    i=float(i.replace(' sec',''))\n",
    "    accel.append(i)"
   ]
  },
  {
   "cell_type": "code",
   "execution_count": 38,
   "id": "1b573d90",
   "metadata": {},
   "outputs": [],
   "source": [
    "df_ecar['Accel']=accel"
   ]
  },
  {
   "cell_type": "code",
   "execution_count": 39,
   "id": "18f2934f",
   "metadata": {},
   "outputs": [],
   "source": [
    "topspeed=[]\n",
    "for i in df_ecar['TopSpeed']:\n",
    "    i=int(i.replace(' km/h',''))\n",
    "    topspeed.append(i)"
   ]
  },
  {
   "cell_type": "code",
   "execution_count": 40,
   "id": "f9697d04",
   "metadata": {},
   "outputs": [],
   "source": [
    "df_ecar['TopSpeed']=topspeed"
   ]
  },
  {
   "cell_type": "code",
   "execution_count": 41,
   "id": "3072246a",
   "metadata": {},
   "outputs": [],
   "source": [
    "C_range=[]\n",
    "for i in df_ecar['Range']:\n",
    "    i=int(i.replace(' km',''))\n",
    "    C_range.append(i)"
   ]
  },
  {
   "cell_type": "code",
   "execution_count": 42,
   "id": "37c3426f",
   "metadata": {},
   "outputs": [],
   "source": [
    "df_ecar['Range']=C_range"
   ]
  },
  {
   "cell_type": "code",
   "execution_count": 43,
   "id": "c00e15a1",
   "metadata": {},
   "outputs": [],
   "source": [
    "efficiency=[]\n",
    "for i in df_ecar['Efficiency']:\n",
    "    i=int(i.replace(' Wh/km',''))\n",
    "    efficiency.append(i)"
   ]
  },
  {
   "cell_type": "code",
   "execution_count": 44,
   "id": "70609a12",
   "metadata": {},
   "outputs": [],
   "source": [
    "df_ecar['Efficiency']=efficiency"
   ]
  },
  {
   "cell_type": "code",
   "execution_count": 45,
   "id": "6f0777cc",
   "metadata": {},
   "outputs": [],
   "source": [
    "df_ecar['FastCharge']=df_ecar['FastCharge'].replace('-','0 km/h')"
   ]
  },
  {
   "cell_type": "code",
   "execution_count": 46,
   "id": "4b6ab226",
   "metadata": {},
   "outputs": [],
   "source": [
    "fastcharge=[]\n",
    "for i in df_ecar['FastCharge']:\n",
    "    i=int(i.replace(' km/h',''))\n",
    "    fastcharge.append(i)"
   ]
  },
  {
   "cell_type": "code",
   "execution_count": 47,
   "id": "74cd37ae",
   "metadata": {},
   "outputs": [],
   "source": [
    "df_ecar['FastCharge']=fastcharge"
   ]
  },
  {
   "cell_type": "code",
   "execution_count": 48,
   "id": "3f71b095",
   "metadata": {},
   "outputs": [
    {
     "data": {
      "text/plain": [
       "435.6862745098039"
      ]
     },
     "execution_count": 48,
     "metadata": {},
     "output_type": "execute_result"
    }
   ],
   "source": [
    "df_ecar['FastCharge'].mean()"
   ]
  },
  {
   "cell_type": "code",
   "execution_count": 49,
   "id": "56d7af4d",
   "metadata": {},
   "outputs": [],
   "source": [
    "df_ecar['FastCharge']=df_ecar['FastCharge'].replace(0,436)"
   ]
  },
  {
   "cell_type": "code",
   "execution_count": 50,
   "id": "02562a36",
   "metadata": {},
   "outputs": [
    {
     "data": {
      "text/html": [
       "<div>\n",
       "<style scoped>\n",
       "    .dataframe tbody tr th:only-of-type {\n",
       "        vertical-align: middle;\n",
       "    }\n",
       "\n",
       "    .dataframe tbody tr th {\n",
       "        vertical-align: top;\n",
       "    }\n",
       "\n",
       "    .dataframe thead th {\n",
       "        text-align: right;\n",
       "    }\n",
       "</style>\n",
       "<table border=\"1\" class=\"dataframe\">\n",
       "  <thead>\n",
       "    <tr style=\"text-align: right;\">\n",
       "      <th></th>\n",
       "      <th>Brand</th>\n",
       "      <th>Model</th>\n",
       "      <th>Accel</th>\n",
       "      <th>TopSpeed</th>\n",
       "      <th>Range</th>\n",
       "      <th>Efficiency</th>\n",
       "      <th>FastCharge</th>\n",
       "      <th>RapidCharge</th>\n",
       "      <th>PowerTrain</th>\n",
       "      <th>PlugType</th>\n",
       "      <th>BodyStyle</th>\n",
       "      <th>Segment</th>\n",
       "      <th>Seats</th>\n",
       "      <th>PriceEuro</th>\n",
       "    </tr>\n",
       "  </thead>\n",
       "  <tbody>\n",
       "    <tr>\n",
       "      <th>0</th>\n",
       "      <td>Tesla</td>\n",
       "      <td>Model 3 Long Range Dual Motor</td>\n",
       "      <td>4.6</td>\n",
       "      <td>233</td>\n",
       "      <td>450</td>\n",
       "      <td>161</td>\n",
       "      <td>940</td>\n",
       "      <td>Rapid charging possible</td>\n",
       "      <td>All Wheel Drive</td>\n",
       "      <td>Type 2 CCS</td>\n",
       "      <td>Sedan</td>\n",
       "      <td>D</td>\n",
       "      <td>5</td>\n",
       "      <td>55480</td>\n",
       "    </tr>\n",
       "    <tr>\n",
       "      <th>1</th>\n",
       "      <td>Volkswagen</td>\n",
       "      <td>ID.3 Pure</td>\n",
       "      <td>10.0</td>\n",
       "      <td>160</td>\n",
       "      <td>270</td>\n",
       "      <td>167</td>\n",
       "      <td>250</td>\n",
       "      <td>Rapid charging possible</td>\n",
       "      <td>Rear Wheel Drive</td>\n",
       "      <td>Type 2 CCS</td>\n",
       "      <td>Hatchback</td>\n",
       "      <td>C</td>\n",
       "      <td>5</td>\n",
       "      <td>30000</td>\n",
       "    </tr>\n",
       "    <tr>\n",
       "      <th>2</th>\n",
       "      <td>Polestar</td>\n",
       "      <td>2</td>\n",
       "      <td>4.7</td>\n",
       "      <td>210</td>\n",
       "      <td>400</td>\n",
       "      <td>181</td>\n",
       "      <td>620</td>\n",
       "      <td>Rapid charging possible</td>\n",
       "      <td>All Wheel Drive</td>\n",
       "      <td>Type 2 CCS</td>\n",
       "      <td>Liftback</td>\n",
       "      <td>D</td>\n",
       "      <td>5</td>\n",
       "      <td>56440</td>\n",
       "    </tr>\n",
       "    <tr>\n",
       "      <th>3</th>\n",
       "      <td>BMW</td>\n",
       "      <td>iX3</td>\n",
       "      <td>6.8</td>\n",
       "      <td>180</td>\n",
       "      <td>360</td>\n",
       "      <td>206</td>\n",
       "      <td>560</td>\n",
       "      <td>Rapid charging possible</td>\n",
       "      <td>Rear Wheel Drive</td>\n",
       "      <td>Type 2 CCS</td>\n",
       "      <td>SUV</td>\n",
       "      <td>D</td>\n",
       "      <td>5</td>\n",
       "      <td>68040</td>\n",
       "    </tr>\n",
       "    <tr>\n",
       "      <th>4</th>\n",
       "      <td>Honda</td>\n",
       "      <td>e</td>\n",
       "      <td>9.5</td>\n",
       "      <td>145</td>\n",
       "      <td>170</td>\n",
       "      <td>168</td>\n",
       "      <td>190</td>\n",
       "      <td>Rapid charging possible</td>\n",
       "      <td>Rear Wheel Drive</td>\n",
       "      <td>Type 2 CCS</td>\n",
       "      <td>Hatchback</td>\n",
       "      <td>B</td>\n",
       "      <td>4</td>\n",
       "      <td>32997</td>\n",
       "    </tr>\n",
       "  </tbody>\n",
       "</table>\n",
       "</div>"
      ],
      "text/plain": [
       "         Brand                          Model  Accel  TopSpeed  Range  \\\n",
       "0       Tesla   Model 3 Long Range Dual Motor    4.6       233    450   \n",
       "1  Volkswagen                       ID.3 Pure   10.0       160    270   \n",
       "2    Polestar                               2    4.7       210    400   \n",
       "3         BMW                            iX3     6.8       180    360   \n",
       "4       Honda                              e     9.5       145    170   \n",
       "\n",
       "   Efficiency  FastCharge              RapidCharge        PowerTrain  \\\n",
       "0         161         940  Rapid charging possible   All Wheel Drive   \n",
       "1         167         250  Rapid charging possible  Rear Wheel Drive   \n",
       "2         181         620  Rapid charging possible   All Wheel Drive   \n",
       "3         206         560  Rapid charging possible  Rear Wheel Drive   \n",
       "4         168         190  Rapid charging possible  Rear Wheel Drive   \n",
       "\n",
       "     PlugType  BodyStyle Segment  Seats  PriceEuro  \n",
       "0  Type 2 CCS      Sedan       D      5      55480  \n",
       "1  Type 2 CCS  Hatchback       C      5      30000  \n",
       "2  Type 2 CCS   Liftback       D      5      56440  \n",
       "3  Type 2 CCS        SUV       D      5      68040  \n",
       "4  Type 2 CCS  Hatchback       B      4      32997  "
      ]
     },
     "execution_count": 50,
     "metadata": {},
     "output_type": "execute_result"
    }
   ],
   "source": [
    "df_ecar.head()"
   ]
  },
  {
   "cell_type": "code",
   "execution_count": 51,
   "id": "a2542ded",
   "metadata": {},
   "outputs": [
    {
     "data": {
      "text/plain": [
       "0"
      ]
     },
     "execution_count": 51,
     "metadata": {},
     "output_type": "execute_result"
    }
   ],
   "source": [
    "df_ecar.isnull().sum().sum()"
   ]
  },
  {
   "cell_type": "code",
   "execution_count": 52,
   "id": "257244d6",
   "metadata": {},
   "outputs": [
    {
     "data": {
      "text/html": [
       "<div>\n",
       "<style scoped>\n",
       "    .dataframe tbody tr th:only-of-type {\n",
       "        vertical-align: middle;\n",
       "    }\n",
       "\n",
       "    .dataframe tbody tr th {\n",
       "        vertical-align: top;\n",
       "    }\n",
       "\n",
       "    .dataframe thead th {\n",
       "        text-align: right;\n",
       "    }\n",
       "</style>\n",
       "<table border=\"1\" class=\"dataframe\">\n",
       "  <thead>\n",
       "    <tr style=\"text-align: right;\">\n",
       "      <th></th>\n",
       "      <th>Accel</th>\n",
       "      <th>TopSpeed</th>\n",
       "      <th>Range</th>\n",
       "      <th>Efficiency</th>\n",
       "      <th>FastCharge</th>\n",
       "      <th>Seats</th>\n",
       "      <th>PriceEuro</th>\n",
       "    </tr>\n",
       "  </thead>\n",
       "  <tbody>\n",
       "    <tr>\n",
       "      <th>count</th>\n",
       "      <td>102.000000</td>\n",
       "      <td>102.000000</td>\n",
       "      <td>102.000000</td>\n",
       "      <td>102.000000</td>\n",
       "      <td>102.000000</td>\n",
       "      <td>102.000000</td>\n",
       "      <td>102.000000</td>\n",
       "    </tr>\n",
       "    <tr>\n",
       "      <th>mean</th>\n",
       "      <td>7.391176</td>\n",
       "      <td>179.313725</td>\n",
       "      <td>338.529412</td>\n",
       "      <td>189.303922</td>\n",
       "      <td>457.058824</td>\n",
       "      <td>4.882353</td>\n",
       "      <td>55997.588235</td>\n",
       "    </tr>\n",
       "    <tr>\n",
       "      <th>std</th>\n",
       "      <td>3.031913</td>\n",
       "      <td>43.771228</td>\n",
       "      <td>126.609613</td>\n",
       "      <td>29.679072</td>\n",
       "      <td>196.821215</td>\n",
       "      <td>0.799680</td>\n",
       "      <td>34250.724403</td>\n",
       "    </tr>\n",
       "    <tr>\n",
       "      <th>min</th>\n",
       "      <td>2.100000</td>\n",
       "      <td>123.000000</td>\n",
       "      <td>95.000000</td>\n",
       "      <td>104.000000</td>\n",
       "      <td>170.000000</td>\n",
       "      <td>2.000000</td>\n",
       "      <td>20129.000000</td>\n",
       "    </tr>\n",
       "    <tr>\n",
       "      <th>25%</th>\n",
       "      <td>5.100000</td>\n",
       "      <td>150.000000</td>\n",
       "      <td>250.000000</td>\n",
       "      <td>168.000000</td>\n",
       "      <td>300.000000</td>\n",
       "      <td>5.000000</td>\n",
       "      <td>34414.750000</td>\n",
       "    </tr>\n",
       "    <tr>\n",
       "      <th>50%</th>\n",
       "      <td>7.300000</td>\n",
       "      <td>160.000000</td>\n",
       "      <td>340.000000</td>\n",
       "      <td>180.500000</td>\n",
       "      <td>440.000000</td>\n",
       "      <td>5.000000</td>\n",
       "      <td>45000.000000</td>\n",
       "    </tr>\n",
       "    <tr>\n",
       "      <th>75%</th>\n",
       "      <td>9.000000</td>\n",
       "      <td>200.000000</td>\n",
       "      <td>400.000000</td>\n",
       "      <td>204.500000</td>\n",
       "      <td>557.500000</td>\n",
       "      <td>5.000000</td>\n",
       "      <td>65000.000000</td>\n",
       "    </tr>\n",
       "    <tr>\n",
       "      <th>max</th>\n",
       "      <td>22.400000</td>\n",
       "      <td>410.000000</td>\n",
       "      <td>970.000000</td>\n",
       "      <td>273.000000</td>\n",
       "      <td>940.000000</td>\n",
       "      <td>7.000000</td>\n",
       "      <td>215000.000000</td>\n",
       "    </tr>\n",
       "  </tbody>\n",
       "</table>\n",
       "</div>"
      ],
      "text/plain": [
       "            Accel    TopSpeed       Range  Efficiency  FastCharge       Seats  \\\n",
       "count  102.000000  102.000000  102.000000  102.000000  102.000000  102.000000   \n",
       "mean     7.391176  179.313725  338.529412  189.303922  457.058824    4.882353   \n",
       "std      3.031913   43.771228  126.609613   29.679072  196.821215    0.799680   \n",
       "min      2.100000  123.000000   95.000000  104.000000  170.000000    2.000000   \n",
       "25%      5.100000  150.000000  250.000000  168.000000  300.000000    5.000000   \n",
       "50%      7.300000  160.000000  340.000000  180.500000  440.000000    5.000000   \n",
       "75%      9.000000  200.000000  400.000000  204.500000  557.500000    5.000000   \n",
       "max     22.400000  410.000000  970.000000  273.000000  940.000000    7.000000   \n",
       "\n",
       "           PriceEuro  \n",
       "count     102.000000  \n",
       "mean    55997.588235  \n",
       "std     34250.724403  \n",
       "min     20129.000000  \n",
       "25%     34414.750000  \n",
       "50%     45000.000000  \n",
       "75%     65000.000000  \n",
       "max    215000.000000  "
      ]
     },
     "execution_count": 52,
     "metadata": {},
     "output_type": "execute_result"
    }
   ],
   "source": [
    "df_ecar.describe()"
   ]
  },
  {
   "cell_type": "code",
   "execution_count": 53,
   "id": "2cd7798a",
   "metadata": {},
   "outputs": [
    {
     "data": {
      "text/html": [
       "<div>\n",
       "<style scoped>\n",
       "    .dataframe tbody tr th:only-of-type {\n",
       "        vertical-align: middle;\n",
       "    }\n",
       "\n",
       "    .dataframe tbody tr th {\n",
       "        vertical-align: top;\n",
       "    }\n",
       "\n",
       "    .dataframe thead th {\n",
       "        text-align: right;\n",
       "    }\n",
       "</style>\n",
       "<table border=\"1\" class=\"dataframe\">\n",
       "  <thead>\n",
       "    <tr style=\"text-align: right;\">\n",
       "      <th></th>\n",
       "      <th>Brand</th>\n",
       "      <th>Model</th>\n",
       "      <th>Accel</th>\n",
       "      <th>TopSpeed</th>\n",
       "      <th>Range</th>\n",
       "      <th>Efficiency</th>\n",
       "      <th>FastCharge</th>\n",
       "      <th>RapidCharge</th>\n",
       "      <th>PowerTrain</th>\n",
       "      <th>PlugType</th>\n",
       "      <th>BodyStyle</th>\n",
       "      <th>Segment</th>\n",
       "      <th>Seats</th>\n",
       "      <th>PriceEuro</th>\n",
       "    </tr>\n",
       "  </thead>\n",
       "  <tbody>\n",
       "    <tr>\n",
       "      <th>51</th>\n",
       "      <td>Tesla</td>\n",
       "      <td>Roadster</td>\n",
       "      <td>2.1</td>\n",
       "      <td>410</td>\n",
       "      <td>970</td>\n",
       "      <td>206</td>\n",
       "      <td>920</td>\n",
       "      <td>Rapid charging possible</td>\n",
       "      <td>All Wheel Drive</td>\n",
       "      <td>Type 2 CCS</td>\n",
       "      <td>Cabrio</td>\n",
       "      <td>S</td>\n",
       "      <td>4</td>\n",
       "      <td>215000</td>\n",
       "    </tr>\n",
       "  </tbody>\n",
       "</table>\n",
       "</div>"
      ],
      "text/plain": [
       "     Brand      Model  Accel  TopSpeed  Range  Efficiency  FastCharge  \\\n",
       "51  Tesla   Roadster     2.1       410    970         206         920   \n",
       "\n",
       "                RapidCharge       PowerTrain    PlugType BodyStyle Segment  \\\n",
       "51  Rapid charging possible  All Wheel Drive  Type 2 CCS    Cabrio       S   \n",
       "\n",
       "    Seats  PriceEuro  \n",
       "51      4     215000  "
      ]
     },
     "execution_count": 53,
     "metadata": {},
     "output_type": "execute_result"
    }
   ],
   "source": [
    "df_ecar[df_ecar['TopSpeed']==410]"
   ]
  },
  {
   "cell_type": "code",
   "execution_count": 54,
   "id": "c17dc935",
   "metadata": {},
   "outputs": [
    {
     "data": {
      "text/plain": [
       "Rapid charging possible        97\n",
       "Rapid charging not possible     5\n",
       "Name: RapidCharge, dtype: int64"
      ]
     },
     "execution_count": 54,
     "metadata": {},
     "output_type": "execute_result"
    }
   ],
   "source": [
    "df_ecar['RapidCharge'].value_counts()"
   ]
  },
  {
   "cell_type": "code",
   "execution_count": 55,
   "id": "9e8712fc",
   "metadata": {},
   "outputs": [
    {
     "data": {
      "text/plain": [
       "All Wheel Drive      41\n",
       "Front Wheel Drive    36\n",
       "Rear Wheel Drive     25\n",
       "Name: PowerTrain, dtype: int64"
      ]
     },
     "execution_count": 55,
     "metadata": {},
     "output_type": "execute_result"
    }
   ],
   "source": [
    "df_ecar['PowerTrain'].value_counts()"
   ]
  },
  {
   "cell_type": "code",
   "execution_count": 56,
   "id": "f0f15197",
   "metadata": {},
   "outputs": [
    {
     "data": {
      "text/plain": [
       "<AxesSubplot:ylabel='None'>"
      ]
     },
     "execution_count": 56,
     "metadata": {},
     "output_type": "execute_result"
    },
    {
     "data": {
      "image/png": "[encoded data removed]",
      "text/plain": [
       "<Figure size 432x288 with 1 Axes>"
      ]
     },
     "metadata": {},
     "output_type": "display_data"
    }
   ],
   "source": [
    "df_ecar.groupby('PowerTrain').size().plot(kind='pie', autopct='%.2f')"
   ]
  },
  {
   "cell_type": "code",
   "execution_count": 57,
   "id": "d67eb790",
   "metadata": {},
   "outputs": [
    {
     "data": {
      "text/plain": [
       "Type 2 CCS        89\n",
       "Type 2             9\n",
       "Type 2 CHAdeMO     3\n",
       "Type 1 CHAdeMO     1\n",
       "Name: PlugType, dtype: int64"
      ]
     },
     "execution_count": 57,
     "metadata": {},
     "output_type": "execute_result"
    }
   ],
   "source": [
    "df_ecar['PlugType'].value_counts()"
   ]
  },
  {
   "cell_type": "code",
   "execution_count": 58,
   "id": "9f741552",
   "metadata": {},
   "outputs": [
    {
     "data": {
      "text/plain": [
       "<AxesSubplot:ylabel='None'>"
      ]
     },
     "execution_count": 58,
     "metadata": {},
     "output_type": "execute_result"
    },
    {
     "data": {
      "image/png": "[encoded data removed]",
      "text/plain": [
       "<Figure size 432x288 with 1 Axes>"
      ]
     },
     "metadata": {},
     "output_type": "display_data"
    }
   ],
   "source": [
    "df_ecar.groupby('Segment').size().plot(kind='pie', autopct='%.2f')"
   ]
  },
  {
   "cell_type": "markdown",
   "id": "fa1f2e9c",
   "metadata": {},
   "source": [
    "Total of 102 models which belongs to 33 brands out of which tesla produced the most(19).95 out of 102 enable rapid charging.179 is the average top speed with tesla roadster having the best(410).Average price(euro) is around 56000."
   ]
  },
  {
   "cell_type": "code",
   "execution_count": 59,
   "id": "064f98af",
   "metadata": {},
   "outputs": [
    {
     "data": {
      "text/html": [
       "<div>\n",
       "<style scoped>\n",
       "    .dataframe tbody tr th:only-of-type {\n",
       "        vertical-align: middle;\n",
       "    }\n",
       "\n",
       "    .dataframe tbody tr th {\n",
       "        vertical-align: top;\n",
       "    }\n",
       "\n",
       "    .dataframe thead th {\n",
       "        text-align: right;\n",
       "    }\n",
       "</style>\n",
       "<table border=\"1\" class=\"dataframe\">\n",
       "  <thead>\n",
       "    <tr style=\"text-align: right;\">\n",
       "      <th></th>\n",
       "      <th>Brand Name</th>\n",
       "      <th>Battery Capacity(kWh)</th>\n",
       "      <th>Acceleration(sec)</th>\n",
       "      <th>TopSpeed(km/h)</th>\n",
       "      <th>Range(km)</th>\n",
       "      <th>Max Power(kW)</th>\n",
       "      <th>Max Torque(Nm)</th>\n",
       "      <th>Transmission</th>\n",
       "      <th>No. of Seats</th>\n",
       "      <th>Charging T(h)</th>\n",
       "      <th>No. of Airbags</th>\n",
       "      <th>Drive Type</th>\n",
       "      <th>Price(Lh)</th>\n",
       "    </tr>\n",
       "  </thead>\n",
       "  <tbody>\n",
       "    <tr>\n",
       "      <th>0</th>\n",
       "      <td>Audi RS e-tron GT</td>\n",
       "      <td>93.4</td>\n",
       "      <td>3.3</td>\n",
       "      <td>250</td>\n",
       "      <td>480</td>\n",
       "      <td>500</td>\n",
       "      <td>830</td>\n",
       "      <td>Automatic</td>\n",
       "      <td>5</td>\n",
       "      <td>9</td>\n",
       "      <td>Yes</td>\n",
       "      <td>AWD</td>\n",
       "      <td>204</td>\n",
       "    </tr>\n",
       "    <tr>\n",
       "      <th>1</th>\n",
       "      <td>Audi e-tron GT</td>\n",
       "      <td>93.4</td>\n",
       "      <td>4.1</td>\n",
       "      <td>245</td>\n",
       "      <td>500</td>\n",
       "      <td>523</td>\n",
       "      <td>630</td>\n",
       "      <td>Automatic</td>\n",
       "      <td>5</td>\n",
       "      <td>9</td>\n",
       "      <td>Yes</td>\n",
       "      <td>AWD</td>\n",
       "      <td>179</td>\n",
       "    </tr>\n",
       "    <tr>\n",
       "      <th>2</th>\n",
       "      <td>Audi e-tron</td>\n",
       "      <td>95.0</td>\n",
       "      <td>5.7</td>\n",
       "      <td>200</td>\n",
       "      <td>484</td>\n",
       "      <td>300</td>\n",
       "      <td>664</td>\n",
       "      <td>Automatic</td>\n",
       "      <td>5</td>\n",
       "      <td>9</td>\n",
       "      <td>Yes</td>\n",
       "      <td>AWD</td>\n",
       "      <td>123</td>\n",
       "    </tr>\n",
       "    <tr>\n",
       "      <th>3</th>\n",
       "      <td>Tata Nexon EV</td>\n",
       "      <td>30.2</td>\n",
       "      <td>9.9</td>\n",
       "      <td>180</td>\n",
       "      <td>312</td>\n",
       "      <td>96</td>\n",
       "      <td>245</td>\n",
       "      <td>Automatic</td>\n",
       "      <td>5</td>\n",
       "      <td>9</td>\n",
       "      <td>Yes</td>\n",
       "      <td>FWD</td>\n",
       "      <td>17</td>\n",
       "    </tr>\n",
       "    <tr>\n",
       "      <th>4</th>\n",
       "      <td>Tata Tigor EV</td>\n",
       "      <td>26.0</td>\n",
       "      <td>5.7</td>\n",
       "      <td>120</td>\n",
       "      <td>306</td>\n",
       "      <td>55</td>\n",
       "      <td>170</td>\n",
       "      <td>Automatic</td>\n",
       "      <td>5</td>\n",
       "      <td>9</td>\n",
       "      <td>Yes</td>\n",
       "      <td>FWD</td>\n",
       "      <td>14</td>\n",
       "    </tr>\n",
       "  </tbody>\n",
       "</table>\n",
       "</div>"
      ],
      "text/plain": [
       "           Brand Name  Battery Capacity(kWh)  Acceleration(sec)  \\\n",
       "0  Audi RS e-tron GT                    93.4                3.3   \n",
       "1     Audi e-tron GT                    93.4                4.1   \n",
       "2        Audi e-tron                    95.0                5.7   \n",
       "3       Tata Nexon EV                   30.2                9.9   \n",
       "4       Tata Tigor EV                   26.0                5.7   \n",
       "\n",
       "   TopSpeed(km/h)  Range(km)  Max Power(kW)  Max Torque(Nm) Transmission  \\\n",
       "0             250        480            500             830    Automatic   \n",
       "1             245        500            523             630    Automatic   \n",
       "2             200        484            300             664    Automatic   \n",
       "3             180        312             96             245    Automatic   \n",
       "4             120        306             55             170    Automatic   \n",
       "\n",
       "   No. of Seats  Charging T(h) No. of Airbags Drive Type  Price(Lh)  \n",
       "0             5              9            Yes        AWD        204  \n",
       "1             5              9            Yes        AWD        179  \n",
       "2             5              9            Yes        AWD        123  \n",
       "3             5              9            Yes        FWD         17  \n",
       "4             5              9            Yes        FWD         14  "
      ]
     },
     "execution_count": 59,
     "metadata": {},
     "output_type": "execute_result"
    }
   ],
   "source": [
    "df_EV_cars_India=pd.read_csv('EV_CARS _INDIA.csv')\n",
    "df_EV_cars_India.head()"
   ]
  },
  {
   "cell_type": "code",
   "execution_count": 60,
   "id": "16e93e1e",
   "metadata": {},
   "outputs": [
    {
     "data": {
      "text/html": [
       "<div>\n",
       "<style scoped>\n",
       "    .dataframe tbody tr th:only-of-type {\n",
       "        vertical-align: middle;\n",
       "    }\n",
       "\n",
       "    .dataframe tbody tr th {\n",
       "        vertical-align: top;\n",
       "    }\n",
       "\n",
       "    .dataframe thead th {\n",
       "        text-align: right;\n",
       "    }\n",
       "</style>\n",
       "<table border=\"1\" class=\"dataframe\">\n",
       "  <thead>\n",
       "    <tr style=\"text-align: right;\">\n",
       "      <th></th>\n",
       "      <th>Battery Capacity(kWh)</th>\n",
       "      <th>Acceleration(sec)</th>\n",
       "      <th>TopSpeed(km/h)</th>\n",
       "      <th>Range(km)</th>\n",
       "      <th>Max Power(kW)</th>\n",
       "      <th>Max Torque(Nm)</th>\n",
       "      <th>No. of Seats</th>\n",
       "      <th>Charging T(h)</th>\n",
       "      <th>Price(Lh)</th>\n",
       "    </tr>\n",
       "  </thead>\n",
       "  <tbody>\n",
       "    <tr>\n",
       "      <th>count</th>\n",
       "      <td>11.000000</td>\n",
       "      <td>11.000000</td>\n",
       "      <td>11.000000</td>\n",
       "      <td>11.000000</td>\n",
       "      <td>11.000000</td>\n",
       "      <td>11.000000</td>\n",
       "      <td>11.000000</td>\n",
       "      <td>11.000000</td>\n",
       "      <td>11.000000</td>\n",
       "    </tr>\n",
       "    <tr>\n",
       "      <th>mean</th>\n",
       "      <td>56.634545</td>\n",
       "      <td>6.909091</td>\n",
       "      <td>165.090909</td>\n",
       "      <td>363.454545</td>\n",
       "      <td>212.181818</td>\n",
       "      <td>445.818182</td>\n",
       "      <td>4.909091</td>\n",
       "      <td>10.363636</td>\n",
       "      <td>74.272727</td>\n",
       "    </tr>\n",
       "    <tr>\n",
       "      <th>std</th>\n",
       "      <td>33.683686</td>\n",
       "      <td>2.653848</td>\n",
       "      <td>58.430223</td>\n",
       "      <td>139.407578</td>\n",
       "      <td>182.454826</td>\n",
       "      <td>280.207001</td>\n",
       "      <td>0.301511</td>\n",
       "      <td>3.931227</td>\n",
       "      <td>72.468049</td>\n",
       "    </tr>\n",
       "    <tr>\n",
       "      <th>min</th>\n",
       "      <td>10.080000</td>\n",
       "      <td>3.300000</td>\n",
       "      <td>80.000000</td>\n",
       "      <td>100.000000</td>\n",
       "      <td>19.000000</td>\n",
       "      <td>70.000000</td>\n",
       "      <td>4.000000</td>\n",
       "      <td>7.000000</td>\n",
       "      <td>9.000000</td>\n",
       "    </tr>\n",
       "    <tr>\n",
       "      <th>25%</th>\n",
       "      <td>28.100000</td>\n",
       "      <td>4.950000</td>\n",
       "      <td>120.000000</td>\n",
       "      <td>309.000000</td>\n",
       "      <td>75.500000</td>\n",
       "      <td>207.500000</td>\n",
       "      <td>5.000000</td>\n",
       "      <td>8.500000</td>\n",
       "      <td>15.500000</td>\n",
       "    </tr>\n",
       "    <tr>\n",
       "      <th>50%</th>\n",
       "      <td>44.500000</td>\n",
       "      <td>5.700000</td>\n",
       "      <td>180.000000</td>\n",
       "      <td>414.000000</td>\n",
       "      <td>107.000000</td>\n",
       "      <td>395.000000</td>\n",
       "      <td>5.000000</td>\n",
       "      <td>9.000000</td>\n",
       "      <td>25.000000</td>\n",
       "    </tr>\n",
       "    <tr>\n",
       "      <th>75%</th>\n",
       "      <td>91.700000</td>\n",
       "      <td>9.100000</td>\n",
       "      <td>200.000000</td>\n",
       "      <td>475.000000</td>\n",
       "      <td>302.000000</td>\n",
       "      <td>680.000000</td>\n",
       "      <td>5.000000</td>\n",
       "      <td>10.500000</td>\n",
       "      <td>117.500000</td>\n",
       "    </tr>\n",
       "    <tr>\n",
       "      <th>max</th>\n",
       "      <td>95.000000</td>\n",
       "      <td>11.200000</td>\n",
       "      <td>250.000000</td>\n",
       "      <td>500.000000</td>\n",
       "      <td>523.000000</td>\n",
       "      <td>830.000000</td>\n",
       "      <td>5.000000</td>\n",
       "      <td>21.000000</td>\n",
       "      <td>204.000000</td>\n",
       "    </tr>\n",
       "  </tbody>\n",
       "</table>\n",
       "</div>"
      ],
      "text/plain": [
       "       Battery Capacity(kWh)  Acceleration(sec)  TopSpeed(km/h)   Range(km)  \\\n",
       "count              11.000000          11.000000       11.000000   11.000000   \n",
       "mean               56.634545           6.909091      165.090909  363.454545   \n",
       "std                33.683686           2.653848       58.430223  139.407578   \n",
       "min                10.080000           3.300000       80.000000  100.000000   \n",
       "25%                28.100000           4.950000      120.000000  309.000000   \n",
       "50%                44.500000           5.700000      180.000000  414.000000   \n",
       "75%                91.700000           9.100000      200.000000  475.000000   \n",
       "max                95.000000          11.200000      250.000000  500.000000   \n",
       "\n",
       "       Max Power(kW)  Max Torque(Nm)  No. of Seats  Charging T(h)   Price(Lh)  \n",
       "count      11.000000       11.000000     11.000000      11.000000   11.000000  \n",
       "mean      212.181818      445.818182      4.909091      10.363636   74.272727  \n",
       "std       182.454826      280.207001      0.301511       3.931227   72.468049  \n",
       "min        19.000000       70.000000      4.000000       7.000000    9.000000  \n",
       "25%        75.500000      207.500000      5.000000       8.500000   15.500000  \n",
       "50%       107.000000      395.000000      5.000000       9.000000   25.000000  \n",
       "75%       302.000000      680.000000      5.000000      10.500000  117.500000  \n",
       "max       523.000000      830.000000      5.000000      21.000000  204.000000  "
      ]
     },
     "execution_count": 60,
     "metadata": {},
     "output_type": "execute_result"
    }
   ],
   "source": [
    "df_EV_cars_India.describe()"
   ]
  },
  {
   "cell_type": "code",
   "execution_count": 61,
   "id": "6bb4aa00",
   "metadata": {},
   "outputs": [
    {
     "data": {
      "text/plain": [
       "array(['Automatic'], dtype=object)"
      ]
     },
     "execution_count": 61,
     "metadata": {},
     "output_type": "execute_result"
    }
   ],
   "source": [
    "df_EV_cars_India['Transmission'].unique()"
   ]
  },
  {
   "cell_type": "code",
   "execution_count": 62,
   "id": "fe0739a2",
   "metadata": {},
   "outputs": [
    {
     "data": {
      "text/plain": [
       "Yes    10\n",
       "No      1\n",
       "Name: No. of Airbags, dtype: int64"
      ]
     },
     "execution_count": 62,
     "metadata": {},
     "output_type": "execute_result"
    }
   ],
   "source": [
    "df_EV_cars_India['No. of Airbags'].value_counts()"
   ]
  },
  {
   "cell_type": "code",
   "execution_count": 63,
   "id": "bdf3da03",
   "metadata": {},
   "outputs": [
    {
     "data": {
      "text/plain": [
       "AWD    5\n",
       "FWD    5\n",
       "RWD    1\n",
       "Name: Drive Type, dtype: int64"
      ]
     },
     "execution_count": 63,
     "metadata": {},
     "output_type": "execute_result"
    }
   ],
   "source": [
    "df_EV_cars_India['Drive Type'].value_counts()"
   ]
  },
  {
   "cell_type": "code",
   "execution_count": 64,
   "id": "ffd31f7e",
   "metadata": {},
   "outputs": [
    {
     "data": {
      "text/html": [
       "<div>\n",
       "<style scoped>\n",
       "    .dataframe tbody tr th:only-of-type {\n",
       "        vertical-align: middle;\n",
       "    }\n",
       "\n",
       "    .dataframe tbody tr th {\n",
       "        vertical-align: top;\n",
       "    }\n",
       "\n",
       "    .dataframe thead th {\n",
       "        text-align: right;\n",
       "    }\n",
       "</style>\n",
       "<table border=\"1\" class=\"dataframe\">\n",
       "  <thead>\n",
       "    <tr style=\"text-align: right;\">\n",
       "      <th></th>\n",
       "      <th>Brand Name</th>\n",
       "      <th>Battery Capacity(kWh)</th>\n",
       "      <th>Acceleration(sec)</th>\n",
       "      <th>TopSpeed(km/h)</th>\n",
       "      <th>Range(km)</th>\n",
       "      <th>Max Power(kW)</th>\n",
       "      <th>Max Torque(Nm)</th>\n",
       "      <th>Transmission</th>\n",
       "      <th>No. of Seats</th>\n",
       "      <th>Charging T(h)</th>\n",
       "      <th>No. of Airbags</th>\n",
       "      <th>Drive Type</th>\n",
       "      <th>Price(Lh)</th>\n",
       "    </tr>\n",
       "  </thead>\n",
       "  <tbody>\n",
       "    <tr>\n",
       "      <th>0</th>\n",
       "      <td>Audi RS e-tron GT</td>\n",
       "      <td>93.4</td>\n",
       "      <td>3.3</td>\n",
       "      <td>250</td>\n",
       "      <td>480</td>\n",
       "      <td>500</td>\n",
       "      <td>830</td>\n",
       "      <td>Automatic</td>\n",
       "      <td>5</td>\n",
       "      <td>9</td>\n",
       "      <td>Yes</td>\n",
       "      <td>AWD</td>\n",
       "      <td>204</td>\n",
       "    </tr>\n",
       "  </tbody>\n",
       "</table>\n",
       "</div>"
      ],
      "text/plain": [
       "           Brand Name  Battery Capacity(kWh)  Acceleration(sec)  \\\n",
       "0  Audi RS e-tron GT                    93.4                3.3   \n",
       "\n",
       "   TopSpeed(km/h)  Range(km)  Max Power(kW)  Max Torque(Nm) Transmission  \\\n",
       "0             250        480            500             830    Automatic   \n",
       "\n",
       "   No. of Seats  Charging T(h) No. of Airbags Drive Type  Price(Lh)  \n",
       "0             5              9            Yes        AWD        204  "
      ]
     },
     "execution_count": 64,
     "metadata": {},
     "output_type": "execute_result"
    }
   ],
   "source": [
    "df_EV_cars_India[df_EV_cars_India['Price(Lh)']==204]"
   ]
  },
  {
   "cell_type": "markdown",
   "id": "c0556830",
   "metadata": {},
   "source": [
    "11 differrent models of EV cars are available in India.Every model has automatic transmission and only one model doesn't enable airbags."
   ]
  },
  {
   "cell_type": "code",
   "execution_count": 65,
   "id": "96a900ca",
   "metadata": {},
   "outputs": [
    {
     "data": {
      "text/html": [
       "<div>\n",
       "<style scoped>\n",
       "    .dataframe tbody tr th:only-of-type {\n",
       "        vertical-align: middle;\n",
       "    }\n",
       "\n",
       "    .dataframe tbody tr th {\n",
       "        vertical-align: top;\n",
       "    }\n",
       "\n",
       "    .dataframe thead th {\n",
       "        text-align: right;\n",
       "    }\n",
       "</style>\n",
       "<table border=\"1\" class=\"dataframe\">\n",
       "  <thead>\n",
       "    <tr style=\"text-align: right;\">\n",
       "      <th></th>\n",
       "      <th>review</th>\n",
       "      <th>Used it for</th>\n",
       "      <th>Owned for</th>\n",
       "      <th>Ridden for</th>\n",
       "      <th>rating</th>\n",
       "      <th>Visual Appeal</th>\n",
       "      <th>Reliability</th>\n",
       "      <th>Performance</th>\n",
       "      <th>Service Experience</th>\n",
       "      <th>Extra Features</th>\n",
       "      <th>Comfort</th>\n",
       "      <th>Maintenance cost</th>\n",
       "      <th>Value for Money</th>\n",
       "      <th>Model Name</th>\n",
       "    </tr>\n",
       "  </thead>\n",
       "  <tbody>\n",
       "    <tr>\n",
       "      <th>0</th>\n",
       "      <td>We all checked the bike's capacity to be 150 k...</td>\n",
       "      <td>Daily Commute</td>\n",
       "      <td>Never owned</td>\n",
       "      <td>NaN</td>\n",
       "      <td>1</td>\n",
       "      <td>3.0</td>\n",
       "      <td>4.0</td>\n",
       "      <td>NaN</td>\n",
       "      <td>NaN</td>\n",
       "      <td>NaN</td>\n",
       "      <td>4.0</td>\n",
       "      <td>NaN</td>\n",
       "      <td>1.0</td>\n",
       "      <td>TVS iQube</td>\n",
       "    </tr>\n",
       "    <tr>\n",
       "      <th>1</th>\n",
       "      <td>Performance is very poor on this bike. The cha...</td>\n",
       "      <td>Everything</td>\n",
       "      <td>&gt; 1 yr</td>\n",
       "      <td>&lt; 5000 kms</td>\n",
       "      <td>1</td>\n",
       "      <td>3.0</td>\n",
       "      <td>1.0</td>\n",
       "      <td>NaN</td>\n",
       "      <td>1.0</td>\n",
       "      <td>NaN</td>\n",
       "      <td>3.0</td>\n",
       "      <td>NaN</td>\n",
       "      <td>3.0</td>\n",
       "      <td>TVS iQube</td>\n",
       "    </tr>\n",
       "    <tr>\n",
       "      <th>2</th>\n",
       "      <td>I purchased this in April 2022 and the sales s...</td>\n",
       "      <td>Daily Commute</td>\n",
       "      <td>&lt; 3 months</td>\n",
       "      <td>&lt; 5000 kms</td>\n",
       "      <td>3</td>\n",
       "      <td>4.0</td>\n",
       "      <td>4.0</td>\n",
       "      <td>NaN</td>\n",
       "      <td>2.0</td>\n",
       "      <td>NaN</td>\n",
       "      <td>5.0</td>\n",
       "      <td>NaN</td>\n",
       "      <td>2.0</td>\n",
       "      <td>TVS iQube</td>\n",
       "    </tr>\n",
       "    <tr>\n",
       "      <th>3</th>\n",
       "      <td>If any issues come in scooty parts not availab...</td>\n",
       "      <td>Daily Commute</td>\n",
       "      <td>6 months-1 yr</td>\n",
       "      <td>5000-10000 kms</td>\n",
       "      <td>1</td>\n",
       "      <td>1.0</td>\n",
       "      <td>1.0</td>\n",
       "      <td>NaN</td>\n",
       "      <td>1.0</td>\n",
       "      <td>NaN</td>\n",
       "      <td>1.0</td>\n",
       "      <td>NaN</td>\n",
       "      <td>1.0</td>\n",
       "      <td>TVS iQube</td>\n",
       "    </tr>\n",
       "    <tr>\n",
       "      <th>4</th>\n",
       "      <td>Don't buy this vehicle unless you have a near ...</td>\n",
       "      <td>Daily Commute</td>\n",
       "      <td>6 months-1 yr</td>\n",
       "      <td>&lt; 5000 kms</td>\n",
       "      <td>1</td>\n",
       "      <td>3.0</td>\n",
       "      <td>4.0</td>\n",
       "      <td>NaN</td>\n",
       "      <td>1.0</td>\n",
       "      <td>NaN</td>\n",
       "      <td>3.0</td>\n",
       "      <td>NaN</td>\n",
       "      <td>2.0</td>\n",
       "      <td>TVS iQube</td>\n",
       "    </tr>\n",
       "  </tbody>\n",
       "</table>\n",
       "</div>"
      ],
      "text/plain": [
       "                                              review    Used it for  \\\n",
       "0  We all checked the bike's capacity to be 150 k...  Daily Commute   \n",
       "1  Performance is very poor on this bike. The cha...     Everything   \n",
       "2  I purchased this in April 2022 and the sales s...  Daily Commute   \n",
       "3  If any issues come in scooty parts not availab...  Daily Commute   \n",
       "4  Don't buy this vehicle unless you have a near ...  Daily Commute   \n",
       "\n",
       "       Owned for      Ridden for  rating  Visual Appeal  Reliability  \\\n",
       "0    Never owned             NaN       1            3.0          4.0   \n",
       "1         > 1 yr      < 5000 kms       1            3.0          1.0   \n",
       "2     < 3 months      < 5000 kms       3            4.0          4.0   \n",
       "3  6 months-1 yr  5000-10000 kms       1            1.0          1.0   \n",
       "4  6 months-1 yr      < 5000 kms       1            3.0          4.0   \n",
       "\n",
       "   Performance  Service Experience  Extra Features  Comfort  Maintenance cost  \\\n",
       "0          NaN                 NaN             NaN      4.0               NaN   \n",
       "1          NaN                 1.0             NaN      3.0               NaN   \n",
       "2          NaN                 2.0             NaN      5.0               NaN   \n",
       "3          NaN                 1.0             NaN      1.0               NaN   \n",
       "4          NaN                 1.0             NaN      3.0               NaN   \n",
       "\n",
       "   Value for Money Model Name  \n",
       "0              1.0  TVS iQube  \n",
       "1              3.0  TVS iQube  \n",
       "2              2.0  TVS iQube  \n",
       "3              1.0  TVS iQube  \n",
       "4              2.0  TVS iQube  "
      ]
     },
     "execution_count": 65,
     "metadata": {},
     "output_type": "execute_result"
    }
   ],
   "source": [
    "df_2w_ev=pd.read_csv('2-wheeler-EV-bikewale.csv')\n",
    "df_2w_ev.head()"
   ]
  },
  {
   "cell_type": "code",
   "execution_count": 66,
   "id": "1488ec88",
   "metadata": {},
   "outputs": [
    {
     "name": "stdout",
     "output_type": "stream",
     "text": [
      "<class 'pandas.core.frame.DataFrame'>\n",
      "RangeIndex: 844 entries, 0 to 843\n",
      "Data columns (total 14 columns):\n",
      " #   Column              Non-Null Count  Dtype  \n",
      "---  ------              --------------  -----  \n",
      " 0   review              797 non-null    object \n",
      " 1   Used it for         844 non-null    object \n",
      " 2   Owned for           844 non-null    object \n",
      " 3   Ridden for          668 non-null    object \n",
      " 4   rating              844 non-null    int64  \n",
      " 5   Visual Appeal       739 non-null    float64\n",
      " 6   Reliability         716 non-null    float64\n",
      " 7   Performance         345 non-null    float64\n",
      " 8   Service Experience  703 non-null    float64\n",
      " 9   Extra Features      185 non-null    float64\n",
      " 10  Comfort             530 non-null    float64\n",
      " 11  Maintenance cost    180 non-null    float64\n",
      " 12  Value for Money     390 non-null    float64\n",
      " 13  Model Name          844 non-null    object \n",
      "dtypes: float64(8), int64(1), object(5)\n",
      "memory usage: 92.4+ KB\n"
     ]
    }
   ],
   "source": [
    "df_2w_ev.info()"
   ]
  },
  {
   "cell_type": "code",
   "execution_count": 67,
   "id": "7b3d130f",
   "metadata": {},
   "outputs": [],
   "source": [
    "df_2w_ev.drop_duplicates(inplace=True)"
   ]
  },
  {
   "cell_type": "code",
   "execution_count": 68,
   "id": "4f9935d0",
   "metadata": {},
   "outputs": [
    {
     "data": {
      "text/plain": [
       "review                 46\n",
       "Used it for             0\n",
       "Owned for               0\n",
       "Ridden for            176\n",
       "rating                  0\n",
       "Visual Appeal         105\n",
       "Reliability           128\n",
       "Performance           498\n",
       "Service Experience    141\n",
       "Extra Features        658\n",
       "Comfort               314\n",
       "Maintenance cost      663\n",
       "Value for Money       454\n",
       "Model Name              0\n",
       "dtype: int64"
      ]
     },
     "execution_count": 68,
     "metadata": {},
     "output_type": "execute_result"
    }
   ],
   "source": [
    "df_2w_ev.isnull().sum()"
   ]
  },
  {
   "cell_type": "code",
   "execution_count": 69,
   "id": "e3fbe5a0",
   "metadata": {},
   "outputs": [
    {
     "data": {
      "text/plain": [
       "< 5000 kms         458\n",
       "5000-10000 kms     138\n",
       "> 15000 kms         38\n",
       "10000-15000 kms     32\n",
       "Never owned          1\n",
       "Name: Ridden for, dtype: int64"
      ]
     },
     "execution_count": 69,
     "metadata": {},
     "output_type": "execute_result"
    }
   ],
   "source": [
    "df_2w_ev['Ridden for'].value_counts()"
   ]
  },
  {
   "cell_type": "code",
   "execution_count": 70,
   "id": "c64ba10a",
   "metadata": {},
   "outputs": [
    {
     "data": {
      "text/plain": [
       "<AxesSubplot:ylabel='None'>"
      ]
     },
     "execution_count": 70,
     "metadata": {},
     "output_type": "execute_result"
    },
    {
     "data": {
      "image/png": "[encoded data removed]",
      "text/plain": [
       "<Figure size 432x288 with 1 Axes>"
      ]
     },
     "metadata": {},
     "output_type": "display_data"
    }
   ],
   "source": [
    "df_2w_ev.groupby('Ridden for').size().plot(kind='pie', autopct='%.2f')"
   ]
  },
  {
   "cell_type": "code",
   "execution_count": 71,
   "id": "6a278eed",
   "metadata": {},
   "outputs": [],
   "source": [
    "df_2w_ev['Ridden for'].fillna('< 5000 kms',inplace=True)"
   ]
  },
  {
   "cell_type": "code",
   "execution_count": 72,
   "id": "7043e444",
   "metadata": {},
   "outputs": [],
   "source": [
    "#fillinf missing values\n",
    "from sklearn.impute import SimpleImputer\n",
    "imputer = SimpleImputer(missing_values=np.nan, strategy='mean')\n",
    "imputer.fit(df_2w_ev[['Visual Appeal','Reliability','Performance','Service Experience','Extra Features','Comfort','Maintenance cost','Value for Money']])\n",
    "df_2w_ev[['Visual Appeal','Reliability','Performance','Service Experience','Extra Features','Comfort','Maintenance cost','Value for Money']]=imputer.transform(df_2w_ev[['Visual Appeal','Reliability','Performance','Service Experience','Extra Features','Comfort','Maintenance cost','Value for Money']])"
   ]
  },
  {
   "cell_type": "code",
   "execution_count": 73,
   "id": "390a5e62",
   "metadata": {},
   "outputs": [
    {
     "data": {
      "text/plain": [
       "<AxesSubplot:ylabel='None'>"
      ]
     },
     "execution_count": 73,
     "metadata": {},
     "output_type": "execute_result"
    },
    {
     "data": {
      "image/png": "[encoded data removed]",
      "text/plain": [
       "<Figure size 432x288 with 1 Axes>"
      ]
     },
     "metadata": {},
     "output_type": "display_data"
    }
   ],
   "source": [
    "df_2w_ev.groupby('Owned for').size().plot(kind='pie', autopct='%.2f')"
   ]
  },
  {
   "cell_type": "code",
   "execution_count": 74,
   "id": "7d3ea8f4",
   "metadata": {},
   "outputs": [
    {
     "data": {
      "image/png": "[encoded data removed]",
      "text/plain": [
       "<Figure size 720x360 with 1 Axes>"
      ]
     },
     "metadata": {
      "needs_background": "light"
     },
     "output_type": "display_data"
    }
   ],
   "source": [
    "plt.figure(figsize=(10,5))\n",
    "sns.countplot(data=df_2w_ev,x='Model Name')\n",
    "plt.xticks(rotation=90)\n",
    "plt.show()"
   ]
  },
  {
   "cell_type": "code",
   "execution_count": 75,
   "id": "d1f2c325",
   "metadata": {},
   "outputs": [
    {
     "data": {
      "text/html": [
       "<div>\n",
       "<style scoped>\n",
       "    .dataframe tbody tr th:only-of-type {\n",
       "        vertical-align: middle;\n",
       "    }\n",
       "\n",
       "    .dataframe tbody tr th {\n",
       "        vertical-align: top;\n",
       "    }\n",
       "\n",
       "    .dataframe thead th {\n",
       "        text-align: right;\n",
       "    }\n",
       "</style>\n",
       "<table border=\"1\" class=\"dataframe\">\n",
       "  <thead>\n",
       "    <tr style=\"text-align: right;\">\n",
       "      <th></th>\n",
       "      <th>rating</th>\n",
       "      <th>Visual Appeal</th>\n",
       "      <th>Reliability</th>\n",
       "      <th>Performance</th>\n",
       "      <th>Service Experience</th>\n",
       "      <th>Extra Features</th>\n",
       "      <th>Comfort</th>\n",
       "      <th>Maintenance cost</th>\n",
       "      <th>Value for Money</th>\n",
       "    </tr>\n",
       "  </thead>\n",
       "  <tbody>\n",
       "    <tr>\n",
       "      <th>count</th>\n",
       "      <td>843.000000</td>\n",
       "      <td>843.000000</td>\n",
       "      <td>843.000000</td>\n",
       "      <td>843.000000</td>\n",
       "      <td>843.000000</td>\n",
       "      <td>843.000000</td>\n",
       "      <td>843.000000</td>\n",
       "      <td>843.000000</td>\n",
       "      <td>843.000000</td>\n",
       "    </tr>\n",
       "    <tr>\n",
       "      <th>mean</th>\n",
       "      <td>3.361803</td>\n",
       "      <td>3.777778</td>\n",
       "      <td>3.311888</td>\n",
       "      <td>3.527536</td>\n",
       "      <td>3.142450</td>\n",
       "      <td>2.935135</td>\n",
       "      <td>3.661626</td>\n",
       "      <td>3.394444</td>\n",
       "      <td>3.377892</td>\n",
       "    </tr>\n",
       "    <tr>\n",
       "      <th>std</th>\n",
       "      <td>1.689935</td>\n",
       "      <td>1.263199</td>\n",
       "      <td>1.459447</td>\n",
       "      <td>0.963705</td>\n",
       "      <td>1.494151</td>\n",
       "      <td>0.762249</td>\n",
       "      <td>1.098710</td>\n",
       "      <td>0.641956</td>\n",
       "      <td>1.025477</td>\n",
       "    </tr>\n",
       "    <tr>\n",
       "      <th>min</th>\n",
       "      <td>1.000000</td>\n",
       "      <td>1.000000</td>\n",
       "      <td>1.000000</td>\n",
       "      <td>1.000000</td>\n",
       "      <td>1.000000</td>\n",
       "      <td>1.000000</td>\n",
       "      <td>1.000000</td>\n",
       "      <td>1.000000</td>\n",
       "      <td>1.000000</td>\n",
       "    </tr>\n",
       "    <tr>\n",
       "      <th>25%</th>\n",
       "      <td>1.000000</td>\n",
       "      <td>3.000000</td>\n",
       "      <td>2.000000</td>\n",
       "      <td>3.527536</td>\n",
       "      <td>1.500000</td>\n",
       "      <td>2.935135</td>\n",
       "      <td>3.661626</td>\n",
       "      <td>3.394444</td>\n",
       "      <td>3.377892</td>\n",
       "    </tr>\n",
       "    <tr>\n",
       "      <th>50%</th>\n",
       "      <td>4.000000</td>\n",
       "      <td>4.000000</td>\n",
       "      <td>3.311888</td>\n",
       "      <td>3.527536</td>\n",
       "      <td>3.142450</td>\n",
       "      <td>2.935135</td>\n",
       "      <td>3.661626</td>\n",
       "      <td>3.394444</td>\n",
       "      <td>3.377892</td>\n",
       "    </tr>\n",
       "    <tr>\n",
       "      <th>75%</th>\n",
       "      <td>5.000000</td>\n",
       "      <td>5.000000</td>\n",
       "      <td>5.000000</td>\n",
       "      <td>3.763768</td>\n",
       "      <td>5.000000</td>\n",
       "      <td>2.935135</td>\n",
       "      <td>4.000000</td>\n",
       "      <td>3.394444</td>\n",
       "      <td>4.000000</td>\n",
       "    </tr>\n",
       "    <tr>\n",
       "      <th>max</th>\n",
       "      <td>5.000000</td>\n",
       "      <td>5.000000</td>\n",
       "      <td>5.000000</td>\n",
       "      <td>5.000000</td>\n",
       "      <td>5.000000</td>\n",
       "      <td>5.000000</td>\n",
       "      <td>5.000000</td>\n",
       "      <td>5.000000</td>\n",
       "      <td>5.000000</td>\n",
       "    </tr>\n",
       "  </tbody>\n",
       "</table>\n",
       "</div>"
      ],
      "text/plain": [
       "           rating  Visual Appeal  Reliability  Performance  \\\n",
       "count  843.000000     843.000000   843.000000   843.000000   \n",
       "mean     3.361803       3.777778     3.311888     3.527536   \n",
       "std      1.689935       1.263199     1.459447     0.963705   \n",
       "min      1.000000       1.000000     1.000000     1.000000   \n",
       "25%      1.000000       3.000000     2.000000     3.527536   \n",
       "50%      4.000000       4.000000     3.311888     3.527536   \n",
       "75%      5.000000       5.000000     5.000000     3.763768   \n",
       "max      5.000000       5.000000     5.000000     5.000000   \n",
       "\n",
       "       Service Experience  Extra Features     Comfort  Maintenance cost  \\\n",
       "count          843.000000      843.000000  843.000000        843.000000   \n",
       "mean             3.142450        2.935135    3.661626          3.394444   \n",
       "std              1.494151        0.762249    1.098710          0.641956   \n",
       "min              1.000000        1.000000    1.000000          1.000000   \n",
       "25%              1.500000        2.935135    3.661626          3.394444   \n",
       "50%              3.142450        2.935135    3.661626          3.394444   \n",
       "75%              5.000000        2.935135    4.000000          3.394444   \n",
       "max              5.000000        5.000000    5.000000          5.000000   \n",
       "\n",
       "       Value for Money  \n",
       "count       843.000000  \n",
       "mean          3.377892  \n",
       "std           1.025477  \n",
       "min           1.000000  \n",
       "25%           3.377892  \n",
       "50%           3.377892  \n",
       "75%           4.000000  \n",
       "max           5.000000  "
      ]
     },
     "execution_count": 75,
     "metadata": {},
     "output_type": "execute_result"
    }
   ],
   "source": [
    "df_2w_ev.describe()"
   ]
  },
  {
   "cell_type": "code",
   "execution_count": 76,
   "id": "a9d7583c",
   "metadata": {},
   "outputs": [
    {
     "data": {
      "text/html": [
       "<div>\n",
       "<style scoped>\n",
       "    .dataframe tbody tr th:only-of-type {\n",
       "        vertical-align: middle;\n",
       "    }\n",
       "\n",
       "    .dataframe tbody tr th {\n",
       "        vertical-align: top;\n",
       "    }\n",
       "\n",
       "    .dataframe thead th {\n",
       "        text-align: right;\n",
       "    }\n",
       "</style>\n",
       "<table border=\"1\" class=\"dataframe\">\n",
       "  <thead>\n",
       "    <tr style=\"text-align: right;\">\n",
       "      <th></th>\n",
       "      <th>review</th>\n",
       "      <th>Exterior</th>\n",
       "      <th>Comfort</th>\n",
       "      <th>Performance</th>\n",
       "      <th>Fuel Economy</th>\n",
       "      <th>Value for Money</th>\n",
       "      <th>Condition</th>\n",
       "      <th>driven</th>\n",
       "      <th>rating</th>\n",
       "      <th>model_name</th>\n",
       "    </tr>\n",
       "  </thead>\n",
       "  <tbody>\n",
       "    <tr>\n",
       "      <th>0</th>\n",
       "      <td>Superb car like as fantastic as petroleum car....</td>\n",
       "      <td>5.0</td>\n",
       "      <td>4.0</td>\n",
       "      <td>5.0</td>\n",
       "      <td>5.0</td>\n",
       "      <td>5.0</td>\n",
       "      <td>New</td>\n",
       "      <td>Few hundred kilometers</td>\n",
       "      <td>5.0</td>\n",
       "      <td>hyundai kona</td>\n",
       "    </tr>\n",
       "    <tr>\n",
       "      <th>1</th>\n",
       "      <td>Anti national, worst service, worst customer c...</td>\n",
       "      <td>1.0</td>\n",
       "      <td>1.0</td>\n",
       "      <td>1.0</td>\n",
       "      <td>1.0</td>\n",
       "      <td>1.0</td>\n",
       "      <td>New</td>\n",
       "      <td>Haven't driven it</td>\n",
       "      <td>0.0</td>\n",
       "      <td>hyundai kona</td>\n",
       "    </tr>\n",
       "    <tr>\n",
       "      <th>2</th>\n",
       "      <td>Super happy with it. The car is too good</td>\n",
       "      <td>4.0</td>\n",
       "      <td>5.0</td>\n",
       "      <td>5.0</td>\n",
       "      <td>5.0</td>\n",
       "      <td>4.0</td>\n",
       "      <td>New</td>\n",
       "      <td>Few thousand kilometers</td>\n",
       "      <td>5.0</td>\n",
       "      <td>hyundai kona</td>\n",
       "    </tr>\n",
       "    <tr>\n",
       "      <th>3</th>\n",
       "      <td>Pretty good car, smooth as a glider fast car, ...</td>\n",
       "      <td>5.0</td>\n",
       "      <td>5.0</td>\n",
       "      <td>5.0</td>\n",
       "      <td>5.0</td>\n",
       "      <td>5.0</td>\n",
       "      <td>New</td>\n",
       "      <td>Few thousand kilometers</td>\n",
       "      <td>5.0</td>\n",
       "      <td>hyundai kona</td>\n",
       "    </tr>\n",
       "    <tr>\n",
       "      <th>4</th>\n",
       "      <td>Price difference between petrol and electronic...</td>\n",
       "      <td>4.0</td>\n",
       "      <td>4.0</td>\n",
       "      <td>5.0</td>\n",
       "      <td>3.0</td>\n",
       "      <td>2.0</td>\n",
       "      <td>Not Purchased</td>\n",
       "      <td>Haven't driven it</td>\n",
       "      <td>3.0</td>\n",
       "      <td>hyundai kona</td>\n",
       "    </tr>\n",
       "  </tbody>\n",
       "</table>\n",
       "</div>"
      ],
      "text/plain": [
       "                                              review  Exterior  Comfort  \\\n",
       "0  Superb car like as fantastic as petroleum car....       5.0      4.0   \n",
       "1  Anti national, worst service, worst customer c...       1.0      1.0   \n",
       "2           Super happy with it. The car is too good       4.0      5.0   \n",
       "3  Pretty good car, smooth as a glider fast car, ...       5.0      5.0   \n",
       "4  Price difference between petrol and electronic...       4.0      4.0   \n",
       "\n",
       "   Performance  Fuel Economy  Value for Money      Condition  \\\n",
       "0          5.0           5.0              5.0            New   \n",
       "1          1.0           1.0              1.0            New   \n",
       "2          5.0           5.0              4.0            New   \n",
       "3          5.0           5.0              5.0            New   \n",
       "4          5.0           3.0              2.0  Not Purchased   \n",
       "\n",
       "                    driven  rating    model_name  \n",
       "0   Few hundred kilometers     5.0  hyundai kona  \n",
       "1        Haven't driven it     0.0  hyundai kona  \n",
       "2  Few thousand kilometers     5.0  hyundai kona  \n",
       "3  Few thousand kilometers     5.0  hyundai kona  \n",
       "4        Haven't driven it     3.0  hyundai kona  "
      ]
     },
     "execution_count": 76,
     "metadata": {},
     "output_type": "execute_result"
    }
   ],
   "source": [
    "df_4w_ev=pd.read_csv('4-wheeler-EV-carwale.csv')\n",
    "df_4w_ev.head()"
   ]
  },
  {
   "cell_type": "code",
   "execution_count": 77,
   "id": "ff07c4d1",
   "metadata": {},
   "outputs": [
    {
     "name": "stdout",
     "output_type": "stream",
     "text": [
      "<class 'pandas.core.frame.DataFrame'>\n",
      "RangeIndex: 129 entries, 0 to 128\n",
      "Data columns (total 10 columns):\n",
      " #   Column           Non-Null Count  Dtype  \n",
      "---  ------           --------------  -----  \n",
      " 0   review           129 non-null    object \n",
      " 1   Exterior         129 non-null    float64\n",
      " 2   Comfort          129 non-null    float64\n",
      " 3   Performance      129 non-null    float64\n",
      " 4   Fuel Economy     129 non-null    float64\n",
      " 5   Value for Money  129 non-null    float64\n",
      " 6   Condition        129 non-null    object \n",
      " 7   driven           129 non-null    object \n",
      " 8   rating           129 non-null    float64\n",
      " 9   model_name       129 non-null    object \n",
      "dtypes: float64(6), object(4)\n",
      "memory usage: 10.2+ KB\n"
     ]
    }
   ],
   "source": [
    "df_4w_ev.info()"
   ]
  },
  {
   "cell_type": "code",
   "execution_count": 78,
   "id": "7170c7d8",
   "metadata": {},
   "outputs": [
    {
     "data": {
      "text/plain": [
       "0"
      ]
     },
     "execution_count": 78,
     "metadata": {},
     "output_type": "execute_result"
    }
   ],
   "source": [
    "df_4w_ev.isnull().sum().sum()"
   ]
  },
  {
   "cell_type": "code",
   "execution_count": 79,
   "id": "290ef267",
   "metadata": {},
   "outputs": [],
   "source": [
    "df_4w_ev.drop_duplicates(inplace=True)"
   ]
  },
  {
   "cell_type": "code",
   "execution_count": 80,
   "id": "7f96d62b",
   "metadata": {},
   "outputs": [
    {
     "data": {
      "text/html": [
       "<div>\n",
       "<style scoped>\n",
       "    .dataframe tbody tr th:only-of-type {\n",
       "        vertical-align: middle;\n",
       "    }\n",
       "\n",
       "    .dataframe tbody tr th {\n",
       "        vertical-align: top;\n",
       "    }\n",
       "\n",
       "    .dataframe thead th {\n",
       "        text-align: right;\n",
       "    }\n",
       "</style>\n",
       "<table border=\"1\" class=\"dataframe\">\n",
       "  <thead>\n",
       "    <tr style=\"text-align: right;\">\n",
       "      <th></th>\n",
       "      <th>Exterior</th>\n",
       "      <th>Comfort</th>\n",
       "      <th>Performance</th>\n",
       "      <th>Fuel Economy</th>\n",
       "      <th>Value for Money</th>\n",
       "      <th>rating</th>\n",
       "    </tr>\n",
       "  </thead>\n",
       "  <tbody>\n",
       "    <tr>\n",
       "      <th>count</th>\n",
       "      <td>129.000000</td>\n",
       "      <td>129.000000</td>\n",
       "      <td>129.000000</td>\n",
       "      <td>129.000000</td>\n",
       "      <td>129.000000</td>\n",
       "      <td>129.000000</td>\n",
       "    </tr>\n",
       "    <tr>\n",
       "      <th>mean</th>\n",
       "      <td>4.472868</td>\n",
       "      <td>4.418605</td>\n",
       "      <td>4.418605</td>\n",
       "      <td>4.418605</td>\n",
       "      <td>4.162791</td>\n",
       "      <td>4.341085</td>\n",
       "    </tr>\n",
       "    <tr>\n",
       "      <th>std</th>\n",
       "      <td>0.968871</td>\n",
       "      <td>1.036051</td>\n",
       "      <td>1.150392</td>\n",
       "      <td>1.122899</td>\n",
       "      <td>1.345076</td>\n",
       "      <td>1.389110</td>\n",
       "    </tr>\n",
       "    <tr>\n",
       "      <th>min</th>\n",
       "      <td>0.000000</td>\n",
       "      <td>0.000000</td>\n",
       "      <td>0.000000</td>\n",
       "      <td>0.000000</td>\n",
       "      <td>0.000000</td>\n",
       "      <td>0.000000</td>\n",
       "    </tr>\n",
       "    <tr>\n",
       "      <th>25%</th>\n",
       "      <td>4.000000</td>\n",
       "      <td>4.000000</td>\n",
       "      <td>4.000000</td>\n",
       "      <td>4.000000</td>\n",
       "      <td>4.000000</td>\n",
       "      <td>4.000000</td>\n",
       "    </tr>\n",
       "    <tr>\n",
       "      <th>50%</th>\n",
       "      <td>5.000000</td>\n",
       "      <td>5.000000</td>\n",
       "      <td>5.000000</td>\n",
       "      <td>5.000000</td>\n",
       "      <td>5.000000</td>\n",
       "      <td>5.000000</td>\n",
       "    </tr>\n",
       "    <tr>\n",
       "      <th>75%</th>\n",
       "      <td>5.000000</td>\n",
       "      <td>5.000000</td>\n",
       "      <td>5.000000</td>\n",
       "      <td>5.000000</td>\n",
       "      <td>5.000000</td>\n",
       "      <td>5.000000</td>\n",
       "    </tr>\n",
       "    <tr>\n",
       "      <th>max</th>\n",
       "      <td>5.000000</td>\n",
       "      <td>5.000000</td>\n",
       "      <td>5.000000</td>\n",
       "      <td>5.000000</td>\n",
       "      <td>5.000000</td>\n",
       "      <td>5.000000</td>\n",
       "    </tr>\n",
       "  </tbody>\n",
       "</table>\n",
       "</div>"
      ],
      "text/plain": [
       "         Exterior     Comfort  Performance  Fuel Economy  Value for Money  \\\n",
       "count  129.000000  129.000000   129.000000    129.000000       129.000000   \n",
       "mean     4.472868    4.418605     4.418605      4.418605         4.162791   \n",
       "std      0.968871    1.036051     1.150392      1.122899         1.345076   \n",
       "min      0.000000    0.000000     0.000000      0.000000         0.000000   \n",
       "25%      4.000000    4.000000     4.000000      4.000000         4.000000   \n",
       "50%      5.000000    5.000000     5.000000      5.000000         5.000000   \n",
       "75%      5.000000    5.000000     5.000000      5.000000         5.000000   \n",
       "max      5.000000    5.000000     5.000000      5.000000         5.000000   \n",
       "\n",
       "           rating  \n",
       "count  129.000000  \n",
       "mean     4.341085  \n",
       "std      1.389110  \n",
       "min      0.000000  \n",
       "25%      4.000000  \n",
       "50%      5.000000  \n",
       "75%      5.000000  \n",
       "max      5.000000  "
      ]
     },
     "execution_count": 80,
     "metadata": {},
     "output_type": "execute_result"
    }
   ],
   "source": [
    "df_4w_ev.describe()"
   ]
  },
  {
   "cell_type": "code",
   "execution_count": 81,
   "id": "ccea827f",
   "metadata": {},
   "outputs": [
    {
     "data": {
      "text/plain": [
       "<AxesSubplot:ylabel='None'>"
      ]
     },
     "execution_count": 81,
     "metadata": {},
     "output_type": "execute_result"
    },
    {
     "data": {
      "image/png": "[encoded data removed]",
      "text/plain": [
       "<Figure size 432x288 with 1 Axes>"
      ]
     },
     "metadata": {},
     "output_type": "display_data"
    }
   ],
   "source": [
    "df_4w_ev.groupby('Condition').size().plot(kind='pie', autopct='%.2f')"
   ]
  },
  {
   "cell_type": "code",
   "execution_count": 82,
   "id": "1644652d",
   "metadata": {},
   "outputs": [
    {
     "data": {
      "text/plain": [
       "<AxesSubplot:ylabel='None'>"
      ]
     },
     "execution_count": 82,
     "metadata": {},
     "output_type": "execute_result"
    },
    {
     "data": {
      "image/png": "[encoded data removed]",
      "text/plain": [
       "<Figure size 432x288 with 1 Axes>"
      ]
     },
     "metadata": {},
     "output_type": "display_data"
    }
   ],
   "source": [
    "df_4w_ev.groupby('driven').size().plot(kind='pie', autopct='%.2f')"
   ]
  },
  {
   "cell_type": "code",
   "execution_count": 83,
   "id": "0fa5ca20",
   "metadata": {},
   "outputs": [
    {
     "data": {
      "text/plain": [
       "<AxesSubplot:xlabel='model_name', ylabel='count'>"
      ]
     },
     "execution_count": 83,
     "metadata": {},
     "output_type": "execute_result"
    },
    {
     "data": {
      "image/png": "[encoded data removed]",
      "text/plain": [
       "<Figure size 432x288 with 1 Axes>"
      ]
     },
     "metadata": {
      "needs_background": "light"
     },
     "output_type": "display_data"
    }
   ],
   "source": [
    "sns.countplot(data=df_4w_ev,x='model_name')"
   ]
  },
  {
   "cell_type": "code",
   "execution_count": 84,
   "id": "2986fe20",
   "metadata": {},
   "outputs": [
    {
     "data": {
      "text/html": [
       "<div>\n",
       "<style scoped>\n",
       "    .dataframe tbody tr th:only-of-type {\n",
       "        vertical-align: middle;\n",
       "    }\n",
       "\n",
       "    .dataframe tbody tr th {\n",
       "        vertical-align: top;\n",
       "    }\n",
       "\n",
       "    .dataframe thead th {\n",
       "        text-align: right;\n",
       "    }\n",
       "</style>\n",
       "<table border=\"1\" class=\"dataframe\">\n",
       "  <thead>\n",
       "    <tr style=\"text-align: right;\">\n",
       "      <th></th>\n",
       "      <th>Year</th>\n",
       "      <th>Buses</th>\n",
       "      <th>Taxis</th>\n",
       "      <th>Light Motor Vehicles(Passengers)</th>\n",
       "      <th>Goods vehicles(a)</th>\n",
       "      <th>Two-wheelers</th>\n",
       "      <th>Cars</th>\n",
       "      <th>Jeeps</th>\n",
       "      <th>Miscellaneous(b)</th>\n",
       "    </tr>\n",
       "  </thead>\n",
       "  <tbody>\n",
       "    <tr>\n",
       "      <th>0</th>\n",
       "      <td>2001</td>\n",
       "      <td>633900</td>\n",
       "      <td>634357</td>\n",
       "      <td>1777130</td>\n",
       "      <td>2948300</td>\n",
       "      <td>38556026</td>\n",
       "      <td>5297219</td>\n",
       "      <td>1126148</td>\n",
       "      <td>4017946</td>\n",
       "    </tr>\n",
       "    <tr>\n",
       "      <th>1</th>\n",
       "      <td>2002</td>\n",
       "      <td>635006</td>\n",
       "      <td>688204</td>\n",
       "      <td>1878261</td>\n",
       "      <td>2973740</td>\n",
       "      <td>41581058</td>\n",
       "      <td>5748036</td>\n",
       "      <td>1177245</td>\n",
       "      <td>4242787</td>\n",
       "    </tr>\n",
       "    <tr>\n",
       "      <th>2</th>\n",
       "      <td>2003</td>\n",
       "      <td>720696</td>\n",
       "      <td>825416</td>\n",
       "      <td>2113781</td>\n",
       "      <td>3491637</td>\n",
       "      <td>47519489</td>\n",
       "      <td>6594166</td>\n",
       "      <td>1180057</td>\n",
       "      <td>4562042</td>\n",
       "    </tr>\n",
       "    <tr>\n",
       "      <th>3</th>\n",
       "      <td>2004</td>\n",
       "      <td>767593</td>\n",
       "      <td>901889</td>\n",
       "      <td>2167324</td>\n",
       "      <td>3748484</td>\n",
       "      <td>51921973</td>\n",
       "      <td>7267174</td>\n",
       "      <td>1282113</td>\n",
       "      <td>4661385</td>\n",
       "    </tr>\n",
       "    <tr>\n",
       "      <th>4</th>\n",
       "      <td>2005</td>\n",
       "      <td>678521</td>\n",
       "      <td>939738</td>\n",
       "      <td>2337264</td>\n",
       "      <td>3877622</td>\n",
       "      <td>58799702</td>\n",
       "      <td>8072650</td>\n",
       "      <td>1307926</td>\n",
       "      <td>5488296</td>\n",
       "    </tr>\n",
       "  </tbody>\n",
       "</table>\n",
       "</div>"
      ],
      "text/plain": [
       "    Year  Buses    Taxis  Light Motor Vehicles(Passengers)  Goods vehicles(a)  \\\n",
       "0   2001  633900  634357                           1777130            2948300   \n",
       "1   2002  635006  688204                           1878261            2973740   \n",
       "2   2003  720696  825416                           2113781            3491637   \n",
       "3   2004  767593  901889                           2167324            3748484   \n",
       "4   2005  678521  939738                           2337264            3877622   \n",
       "\n",
       "   Two-wheelers     Cars    Jeeps  Miscellaneous(b)  \n",
       "0      38556026  5297219  1126148           4017946  \n",
       "1      41581058  5748036  1177245           4242787  \n",
       "2      47519489  6594166  1180057           4562042  \n",
       "3      51921973  7267174  1282113           4661385  \n",
       "4      58799702  8072650  1307926           5488296  "
      ]
     },
     "execution_count": 84,
     "metadata": {},
     "output_type": "execute_result"
    }
   ],
   "source": [
    "df_vehicles_registered=pd.read_csv('Table-20.1_0.csv')\n",
    "df_vehicles_registered.head()"
   ]
  },
  {
   "cell_type": "code",
   "execution_count": 85,
   "id": "9fe04fdd",
   "metadata": {},
   "outputs": [
    {
     "name": "stdout",
     "output_type": "stream",
     "text": [
      "<class 'pandas.core.frame.DataFrame'>\n",
      "RangeIndex: 15 entries, 0 to 14\n",
      "Data columns (total 9 columns):\n",
      " #   Column                            Non-Null Count  Dtype\n",
      "---  ------                            --------------  -----\n",
      " 0    Year                             15 non-null     int64\n",
      " 1   Buses                             15 non-null     int64\n",
      " 2   Taxis                             15 non-null     int64\n",
      " 3   Light Motor Vehicles(Passengers)  15 non-null     int64\n",
      " 4   Goods vehicles(a)                 15 non-null     int64\n",
      " 5   Two-wheelers                      15 non-null     int64\n",
      " 6   Cars                              15 non-null     int64\n",
      " 7   Jeeps                             15 non-null     int64\n",
      " 8   Miscellaneous(b)                  15 non-null     int64\n",
      "dtypes: int64(9)\n",
      "memory usage: 1.2 KB\n"
     ]
    }
   ],
   "source": [
    "df_vehicles_registered.info()"
   ]
  },
  {
   "cell_type": "code",
   "execution_count": 86,
   "id": "d938e79e",
   "metadata": {
    "scrolled": false
   },
   "outputs": [
    {
     "data": {
      "image/png": "[encoded data removed]",
      "text/plain": [
       "<Figure size 1440x2880 with 8 Axes>"
      ]
     },
     "metadata": {
      "needs_background": "light"
     },
     "output_type": "display_data"
    }
   ],
   "source": [
    "plt.figure(figsize=(20,40))\n",
    "plt.subplot(4,2,1)\n",
    "sns.lineplot(data=df_vehicles_registered,x=' Year',y='Buses ')\n",
    "plt.subplot(4,2,2)\n",
    "sns.lineplot(data=df_vehicles_registered,x=' Year',y='Taxis')\n",
    "plt.subplot(4,2,3)\n",
    "sns.lineplot(data=df_vehicles_registered,x=' Year',y='Light Motor Vehicles(Passengers)')\n",
    "plt.subplot(4,2,4)\n",
    "sns.lineplot(data=df_vehicles_registered,x=' Year',y='Goods vehicles(a)')\n",
    "plt.subplot(4,2,5)\n",
    "sns.lineplot(data=df_vehicles_registered,x=' Year',y='Two-wheelers')\n",
    "plt.subplot(4,2,6)\n",
    "sns.lineplot(data=df_vehicles_registered,x=' Year',y='Cars')\n",
    "plt.subplot(4,2,7)\n",
    "sns.lineplot(data=df_vehicles_registered,x=' Year',y='Jeeps')\n",
    "plt.subplot(4,2,8)\n",
    "sns.lineplot(data=df_vehicles_registered,x=' Year',y='Miscellaneous(b)')\n",
    "plt.show()"
   ]
  },
  {
   "cell_type": "code",
   "execution_count": 87,
   "id": "496b8fd6",
   "metadata": {},
   "outputs": [],
   "source": [
    "df_registrations_by_state=pd.read_csv('Table-20.1_0(1).csv')"
   ]
  },
  {
   "cell_type": "code",
   "execution_count": 88,
   "id": "bed88d49",
   "metadata": {},
   "outputs": [
    {
     "data": {
      "text/html": [
       "<div>\n",
       "<style scoped>\n",
       "    .dataframe tbody tr th:only-of-type {\n",
       "        vertical-align: middle;\n",
       "    }\n",
       "\n",
       "    .dataframe tbody tr th {\n",
       "        vertical-align: top;\n",
       "    }\n",
       "\n",
       "    .dataframe thead th {\n",
       "        text-align: right;\n",
       "    }\n",
       "</style>\n",
       "<table border=\"1\" class=\"dataframe\">\n",
       "  <thead>\n",
       "    <tr style=\"text-align: right;\">\n",
       "      <th></th>\n",
       "      <th>State:</th>\n",
       "      <th>2009(b)</th>\n",
       "      <th>2010(b)</th>\n",
       "      <th>2011(b)</th>\n",
       "      <th>2012(b)</th>\n",
       "      <th>2013(b)</th>\n",
       "      <th>2014(b)</th>\n",
       "      <th>2015(b)</th>\n",
       "      <th>2009(t)</th>\n",
       "      <th>2010(t)</th>\n",
       "      <th>...</th>\n",
       "      <th>2013(j)</th>\n",
       "      <th>2014(j)</th>\n",
       "      <th>2015(j)</th>\n",
       "      <th>2009(M)</th>\n",
       "      <th>2010(M)</th>\n",
       "      <th>2011(M)</th>\n",
       "      <th>2012(M)</th>\n",
       "      <th>2013(M)</th>\n",
       "      <th>2014(M)</th>\n",
       "      <th>2015(M)</th>\n",
       "    </tr>\n",
       "  </thead>\n",
       "  <tbody>\n",
       "    <tr>\n",
       "      <th>0</th>\n",
       "      <td>Andhra Pradesh</td>\n",
       "      <td>53820.0</td>\n",
       "      <td>56664.0</td>\n",
       "      <td>60622</td>\n",
       "      <td>70075</td>\n",
       "      <td>73787</td>\n",
       "      <td>35843</td>\n",
       "      <td>38269</td>\n",
       "      <td>9554.0</td>\n",
       "      <td>103290.0</td>\n",
       "      <td>...</td>\n",
       "      <td>25703</td>\n",
       "      <td>10851</td>\n",
       "      <td>10878</td>\n",
       "      <td>516618</td>\n",
       "      <td>551268.0</td>\n",
       "      <td>602486</td>\n",
       "      <td>713196</td>\n",
       "      <td>690409</td>\n",
       "      <td>233494</td>\n",
       "      <td>255821</td>\n",
       "    </tr>\n",
       "    <tr>\n",
       "      <th>1</th>\n",
       "      <td>Arunachal Pradesh</td>\n",
       "      <td>682.0</td>\n",
       "      <td>682.0</td>\n",
       "      <td>…</td>\n",
       "      <td>…</td>\n",
       "      <td>…</td>\n",
       "      <td>…</td>\n",
       "      <td>…</td>\n",
       "      <td>343.0</td>\n",
       "      <td>343.0</td>\n",
       "      <td>...</td>\n",
       "      <td>…</td>\n",
       "      <td>NaN</td>\n",
       "      <td>NaN</td>\n",
       "      <td>680</td>\n",
       "      <td>680.0</td>\n",
       "      <td>…</td>\n",
       "      <td>…</td>\n",
       "      <td>0</td>\n",
       "      <td>0</td>\n",
       "      <td>0</td>\n",
       "    </tr>\n",
       "    <tr>\n",
       "      <th>2</th>\n",
       "      <td>Assam</td>\n",
       "      <td>13257.0</td>\n",
       "      <td>13859.0</td>\n",
       "      <td>14741</td>\n",
       "      <td>15787</td>\n",
       "      <td>18982</td>\n",
       "      <td>18355</td>\n",
       "      <td>19846</td>\n",
       "      <td>19680.0</td>\n",
       "      <td>24088.0</td>\n",
       "      <td>...</td>\n",
       "      <td>18621</td>\n",
       "      <td>17750</td>\n",
       "      <td>16128</td>\n",
       "      <td>50809</td>\n",
       "      <td>53860.0</td>\n",
       "      <td>58205</td>\n",
       "      <td>63784</td>\n",
       "      <td>41493</td>\n",
       "      <td>54925</td>\n",
       "      <td>56164</td>\n",
       "    </tr>\n",
       "    <tr>\n",
       "      <th>3</th>\n",
       "      <td>Bihar</td>\n",
       "      <td>19654.0</td>\n",
       "      <td>21209.0</td>\n",
       "      <td>22703</td>\n",
       "      <td>24097</td>\n",
       "      <td>25992</td>\n",
       "      <td>27638</td>\n",
       "      <td>29384</td>\n",
       "      <td>30857.0</td>\n",
       "      <td>38204.0</td>\n",
       "      <td>...</td>\n",
       "      <td>94764</td>\n",
       "      <td>104240</td>\n",
       "      <td>113377</td>\n",
       "      <td>264350</td>\n",
       "      <td>137344.0</td>\n",
       "      <td>329281</td>\n",
       "      <td>364928</td>\n",
       "      <td>408593</td>\n",
       "      <td>450186</td>\n",
       "      <td>498029</td>\n",
       "    </tr>\n",
       "    <tr>\n",
       "      <th>4</th>\n",
       "      <td>Chhatisgarh</td>\n",
       "      <td>41098.0</td>\n",
       "      <td>7658.0</td>\n",
       "      <td>8596</td>\n",
       "      <td>12049</td>\n",
       "      <td>13071</td>\n",
       "      <td>48501</td>\n",
       "      <td>52783</td>\n",
       "      <td>6589.0</td>\n",
       "      <td>7499.0</td>\n",
       "      <td>...</td>\n",
       "      <td>18202</td>\n",
       "      <td>18827</td>\n",
       "      <td>20251</td>\n",
       "      <td>155024</td>\n",
       "      <td>202275.0</td>\n",
       "      <td>223689</td>\n",
       "      <td>244249</td>\n",
       "      <td>268518</td>\n",
       "      <td>270627</td>\n",
       "      <td>302186</td>\n",
       "    </tr>\n",
       "  </tbody>\n",
       "</table>\n",
       "<p>5 rows × 57 columns</p>\n",
       "</div>"
      ],
      "text/plain": [
       "               State:  2009(b)  2010(b) 2011(b) 2012(b) 2013(b) 2014(b)  \\\n",
       "0      Andhra Pradesh  53820.0  56664.0   60622   70075   73787   35843   \n",
       "1   Arunachal Pradesh    682.0    682.0       …       …       …       …   \n",
       "2              Assam   13257.0  13859.0   14741   15787   18982   18355   \n",
       "3              Bihar   19654.0  21209.0   22703   24097   25992   27638   \n",
       "4         Chhatisgarh  41098.0   7658.0    8596   12049   13071   48501   \n",
       "\n",
       "  2015(b)  2009(t)   2010(t)  ... 2013(j) 2014(j) 2015(j)  2009(M)   2010(M)  \\\n",
       "0   38269   9554.0  103290.0  ...   25703   10851   10878   516618  551268.0   \n",
       "1       …    343.0     343.0  ...       …     NaN     NaN      680     680.0   \n",
       "2   19846  19680.0   24088.0  ...   18621   17750   16128    50809   53860.0   \n",
       "3   29384  30857.0   38204.0  ...   94764  104240  113377   264350  137344.0   \n",
       "4   52783   6589.0    7499.0  ...   18202   18827   20251   155024  202275.0   \n",
       "\n",
       "  2011(M)  2012(M) 2013(M) 2014(M) 2015(M)  \n",
       "0  602486   713196  690409  233494  255821  \n",
       "1       …        …       0       0       0  \n",
       "2   58205    63784   41493   54925   56164  \n",
       "3  329281   364928  408593  450186  498029  \n",
       "4  223689   244249  268518  270627  302186  \n",
       "\n",
       "[5 rows x 57 columns]"
      ]
     },
     "execution_count": 88,
     "metadata": {},
     "output_type": "execute_result"
    }
   ],
   "source": [
    "df_registrations_by_state.head()"
   ]
  },
  {
   "cell_type": "code",
   "execution_count": 89,
   "id": "7cce2dc6",
   "metadata": {},
   "outputs": [
    {
     "name": "stdout",
     "output_type": "stream",
     "text": [
      "<class 'pandas.core.frame.DataFrame'>\n",
      "RangeIndex: 36 entries, 0 to 35\n",
      "Data columns (total 57 columns):\n",
      " #   Column      Non-Null Count  Dtype  \n",
      "---  ------      --------------  -----  \n",
      " 0   State:      36 non-null     object \n",
      " 1   2009(b)     35 non-null     float64\n",
      " 2   2010(b)     35 non-null     float64\n",
      " 3   2011(b)     35 non-null     object \n",
      " 4   2012(b)     35 non-null     object \n",
      " 5   2013(b)     36 non-null     object \n",
      " 6   2014(b)     36 non-null     object \n",
      " 7   2015(b)     36 non-null     object \n",
      " 8   2009(t)     35 non-null     float64\n",
      " 9   2010(t)     35 non-null     float64\n",
      " 10  2011(t)     35 non-null     object \n",
      " 11  2012(t)     35 non-null     object \n",
      " 12  2013(t)     36 non-null     object \n",
      " 13  2014(t)     35 non-null     float64\n",
      " 14  2015(t)     35 non-null     float64\n",
      " 15  2009(lmv)   35 non-null     object \n",
      " 16  2010(lmv)   35 non-null     float64\n",
      " 17  2011(lmv)   35 non-null     object \n",
      " 18  2012(lmv)   35 non-null     object \n",
      " 19  2013(lmv)   36 non-null     object \n",
      " 20  2014(lmv)   34 non-null     float64\n",
      " 21  2015(lmv)   34 non-null     float64\n",
      " 22  2009(gcv)   35 non-null     float64\n",
      " 23  2010(gcv)   35 non-null     float64\n",
      " 24  2011(gcv)   35 non-null     object \n",
      " 25  2012(gcv)   35 non-null     object \n",
      " 26  2013(gcv)   36 non-null     int64  \n",
      " 27  2014(gcv)   36 non-null     int64  \n",
      " 28  2015(gcv)   36 non-null     int64  \n",
      " 29  2009(tw)    35 non-null     float64\n",
      " 30  2010(tw)    35 non-null     float64\n",
      " 31  2011(tw)    35 non-null     object \n",
      " 32  2012(tw)    35 non-null     object \n",
      " 33  2013(tw)    36 non-null     object \n",
      " 34  2014(tw)    35 non-null     float64\n",
      " 35  2015(tw)    35 non-null     float64\n",
      " 36  2009(cars)  35 non-null     float64\n",
      " 37  2010(cars)  35 non-null     float64\n",
      " 38  2011(cars)  35 non-null     object \n",
      " 39  2012(cars)  35 non-null     object \n",
      " 40  2013(cars)  36 non-null     object \n",
      " 41  2014(cars)  35 non-null     float64\n",
      " 42  2015(cars)  35 non-null     float64\n",
      " 43  2009(j)     35 non-null     object \n",
      " 44  2010(j)     35 non-null     object \n",
      " 45  2011(j)     35 non-null     object \n",
      " 46  2012(j)     35 non-null     object \n",
      " 47  2013(j)     36 non-null     object \n",
      " 48  2014(j)     35 non-null     object \n",
      " 49  2015(j)     35 non-null     object \n",
      " 50  2009(M)     35 non-null     object \n",
      " 51  2010(M)     35 non-null     float64\n",
      " 52  2011(M)     35 non-null     object \n",
      " 53  2012(M)     35 non-null     object \n",
      " 54  2013(M)     36 non-null     int64  \n",
      " 55  2014(M)     36 non-null     int64  \n",
      " 56  2015(M)     36 non-null     int64  \n",
      "dtypes: float64(20), int64(6), object(31)\n",
      "memory usage: 16.2+ KB\n"
     ]
    }
   ],
   "source": [
    "df_registrations_by_state.info()"
   ]
  },
  {
   "cell_type": "code",
   "execution_count": 90,
   "id": "7744b8e7",
   "metadata": {},
   "outputs": [
    {
     "data": {
      "text/plain": [
       "44"
      ]
     },
     "execution_count": 90,
     "metadata": {},
     "output_type": "execute_result"
    }
   ],
   "source": [
    "df_registrations_by_state.isnull().sum().sum()"
   ]
  },
  {
   "cell_type": "code",
   "execution_count": 91,
   "id": "b3554df8",
   "metadata": {},
   "outputs": [],
   "source": [
    "df_registrations_by_state.fillna(0,inplace=True)"
   ]
  },
  {
   "cell_type": "code",
   "execution_count": 92,
   "id": "56ce9cce",
   "metadata": {},
   "outputs": [],
   "source": [
    "df_registrations_by_state=df_registrations_by_state.replace('…',0)\n",
    "df_registrations_by_state=df_registrations_by_state.replace('&',0)\n",
    "df_registrations_by_state=df_registrations_by_state.replace('a',0)\n",
    "df_registrations_by_state=df_registrations_by_state.replace('b',0)\n",
    "df_registrations_by_state=df_registrations_by_state.replace('#',0)\n",
    "df_registrations_by_state=df_registrations_by_state.replace('$',0)\n",
    "df_registrations_by_state=df_registrations_by_state.replace('^',0)\n",
    "df_registrations_by_state=df_registrations_by_state.replace('-',0)"
   ]
  },
  {
   "cell_type": "code",
   "execution_count": 93,
   "id": "f7db1e7f",
   "metadata": {},
   "outputs": [],
   "source": [
    "df_bus=df_registrations_by_state.iloc[:,0:8]\n",
    "df_taxis=df_registrations_by_state.iloc[:,[0,8,9,10,11,12,13,14]]\n",
    "df_lmv=df_registrations_by_state.iloc[:,[0,15,16,17,18,19,20,21]]\n",
    "df_gcv=df_registrations_by_state.iloc[:,[0,22,23,24,25,26,27,28]]\n",
    "df_tw=df_registrations_by_state.iloc[:,[0,29,30,31,32,33,34,35]]\n",
    "df_cars=df_registrations_by_state.iloc[:,[0,36,37,38,39,40,41,42]]\n",
    "df_jeeps=df_registrations_by_state.iloc[:,[0,43,44,45,46,47,48,49]]\n",
    "df_miscellaneous=df_registrations_by_state.iloc[:,[0,50,51,52,53,54,56]]"
   ]
  },
  {
   "cell_type": "code",
   "execution_count": null,
   "id": "fdd38113",
   "metadata": {},
   "outputs": [],
   "source": []
  }
 ],
 "metadata": {
  "kernelspec": {
   "display_name": "Python 3 (ipykernel)",
   "language": "python",
   "name": "python3"
  },
  "language_info": {
   "codemirror_mode": {
    "name": "ipython",
    "version": 3
   },
   "file_extension": ".py",
   "mimetype": "text/x-python",
   "name": "python",
   "nbconvert_exporter": "python",
   "pygments_lexer": "ipython3",
   "version": "3.9.12"
  }
 },
 "nbformat": 4,
 "nbformat_minor": 5
}
